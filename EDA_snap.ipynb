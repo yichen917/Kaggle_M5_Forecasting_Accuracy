{
  "nbformat": 4,
  "nbformat_minor": 0,
  "metadata": {
    "colab": {
      "provenance": [],
      "machine_shape": "hm"
    },
    "kernelspec": {
      "name": "python3",
      "display_name": "Python 3"
    },
    "accelerator": "TPU"
  },
  "cells": [
    {
      "cell_type": "code",
      "metadata": {
        "id": "dikJIf7bCNG6",
        "outputId": "d06d1f64-c5fc-4bb4-96f5-99fa964e38b9",
        "colab": {
          "base_uri": "https://localhost:8080/",
          "height": 89
        }
      },
      "source": [
        "import numpy as np\n",
        "import pandas as pd\n",
        "import matplotlib.pyplot as plt\n",
        "import seaborn as sns\n",
        "from google.colab import files\n",
        "from google.colab import drive\n",
        "drive.mount('/content/drive')"
      ],
      "execution_count": null,
      "outputs": [
        {
          "output_type": "stream",
          "text": [
            "Drive already mounted at /content/drive; to attempt to forcibly remount, call drive.mount(\"/content/drive\", force_remount=True).\n"
          ],
          "name": "stdout"
        },
        {
          "output_type": "stream",
          "text": [
            "/usr/local/lib/python3.6/dist-packages/statsmodels/tools/_testing.py:19: FutureWarning: pandas.util.testing is deprecated. Use the functions in the public API at pandas.testing instead.\n",
            "  import pandas.util.testing as tm\n"
          ],
          "name": "stderr"
        }
      ]
    },
    {
      "cell_type": "code",
      "metadata": {
        "id": "t6CscVqCqOmx"
      },
      "source": [
        "data_dir = '/content/drive/My Drive/統計學習初論/Data/'"
      ],
      "execution_count": null,
      "outputs": []
    },
    {
      "cell_type": "markdown",
      "metadata": {
        "id": "oShYQJbiCNHQ"
      },
      "source": [
        "### EDA  \n",
        "snap vs. sales  \n",
        "\n",
        "We hope to explore the impact of the Supplemental Nutrition Assistance Program (SNAP) on sales through EDA to understand its impacts on sales, and further decide whether to include it as one of the predictive features.\n",
        "\n",
        "SNAP Program: https://www.feedingamerica.org/take-action/advocate/federal-hunger-relief-programs/snap\n",
        "\n",
        "\n",
        "\n",
        "\n",
        "\n"
      ]
    },
    {
      "cell_type": "code",
      "metadata": {
        "id": "9l1YIF3JCNHS",
        "outputId": "74aeb47c-f548-42d4-bff1-637298c460da",
        "colab": {
          "base_uri": "https://localhost:8080/",
          "height": 251
        }
      },
      "source": [
        "sells_train = pd.read_csv(data_dir + \"sales_train_validation.csv\")\n",
        "sells_train.head()"
      ],
      "execution_count": null,
      "outputs": [
        {
          "output_type": "execute_result",
          "data": {
            "text/html": [
              "<div>\n",
              "<style scoped>\n",
              "    .dataframe tbody tr th:only-of-type {\n",
              "        vertical-align: middle;\n",
              "    }\n",
              "\n",
              "    .dataframe tbody tr th {\n",
              "        vertical-align: top;\n",
              "    }\n",
              "\n",
              "    .dataframe thead th {\n",
              "        text-align: right;\n",
              "    }\n",
              "</style>\n",
              "<table border=\"1\" class=\"dataframe\">\n",
              "  <thead>\n",
              "    <tr style=\"text-align: right;\">\n",
              "      <th></th>\n",
              "      <th>id</th>\n",
              "      <th>item_id</th>\n",
              "      <th>dept_id</th>\n",
              "      <th>cat_id</th>\n",
              "      <th>store_id</th>\n",
              "      <th>state_id</th>\n",
              "      <th>d_1</th>\n",
              "      <th>d_2</th>\n",
              "      <th>d_3</th>\n",
              "      <th>d_4</th>\n",
              "      <th>d_5</th>\n",
              "      <th>d_6</th>\n",
              "      <th>d_7</th>\n",
              "      <th>d_8</th>\n",
              "      <th>d_9</th>\n",
              "      <th>d_10</th>\n",
              "      <th>d_11</th>\n",
              "      <th>d_12</th>\n",
              "      <th>d_13</th>\n",
              "      <th>d_14</th>\n",
              "      <th>d_15</th>\n",
              "      <th>d_16</th>\n",
              "      <th>d_17</th>\n",
              "      <th>d_18</th>\n",
              "      <th>d_19</th>\n",
              "      <th>d_20</th>\n",
              "      <th>d_21</th>\n",
              "      <th>d_22</th>\n",
              "      <th>d_23</th>\n",
              "      <th>d_24</th>\n",
              "      <th>d_25</th>\n",
              "      <th>d_26</th>\n",
              "      <th>d_27</th>\n",
              "      <th>d_28</th>\n",
              "      <th>d_29</th>\n",
              "      <th>d_30</th>\n",
              "      <th>d_31</th>\n",
              "      <th>d_32</th>\n",
              "      <th>d_33</th>\n",
              "      <th>d_34</th>\n",
              "      <th>...</th>\n",
              "      <th>d_1874</th>\n",
              "      <th>d_1875</th>\n",
              "      <th>d_1876</th>\n",
              "      <th>d_1877</th>\n",
              "      <th>d_1878</th>\n",
              "      <th>d_1879</th>\n",
              "      <th>d_1880</th>\n",
              "      <th>d_1881</th>\n",
              "      <th>d_1882</th>\n",
              "      <th>d_1883</th>\n",
              "      <th>d_1884</th>\n",
              "      <th>d_1885</th>\n",
              "      <th>d_1886</th>\n",
              "      <th>d_1887</th>\n",
              "      <th>d_1888</th>\n",
              "      <th>d_1889</th>\n",
              "      <th>d_1890</th>\n",
              "      <th>d_1891</th>\n",
              "      <th>d_1892</th>\n",
              "      <th>d_1893</th>\n",
              "      <th>d_1894</th>\n",
              "      <th>d_1895</th>\n",
              "      <th>d_1896</th>\n",
              "      <th>d_1897</th>\n",
              "      <th>d_1898</th>\n",
              "      <th>d_1899</th>\n",
              "      <th>d_1900</th>\n",
              "      <th>d_1901</th>\n",
              "      <th>d_1902</th>\n",
              "      <th>d_1903</th>\n",
              "      <th>d_1904</th>\n",
              "      <th>d_1905</th>\n",
              "      <th>d_1906</th>\n",
              "      <th>d_1907</th>\n",
              "      <th>d_1908</th>\n",
              "      <th>d_1909</th>\n",
              "      <th>d_1910</th>\n",
              "      <th>d_1911</th>\n",
              "      <th>d_1912</th>\n",
              "      <th>d_1913</th>\n",
              "    </tr>\n",
              "  </thead>\n",
              "  <tbody>\n",
              "    <tr>\n",
              "      <th>0</th>\n",
              "      <td>HOBBIES_1_001_CA_1_validation</td>\n",
              "      <td>HOBBIES_1_001</td>\n",
              "      <td>HOBBIES_1</td>\n",
              "      <td>HOBBIES</td>\n",
              "      <td>CA_1</td>\n",
              "      <td>CA</td>\n",
              "      <td>0</td>\n",
              "      <td>0</td>\n",
              "      <td>0</td>\n",
              "      <td>0</td>\n",
              "      <td>0</td>\n",
              "      <td>0</td>\n",
              "      <td>0</td>\n",
              "      <td>0</td>\n",
              "      <td>0</td>\n",
              "      <td>0</td>\n",
              "      <td>0</td>\n",
              "      <td>0</td>\n",
              "      <td>0</td>\n",
              "      <td>0</td>\n",
              "      <td>0</td>\n",
              "      <td>0</td>\n",
              "      <td>0</td>\n",
              "      <td>0</td>\n",
              "      <td>0</td>\n",
              "      <td>0</td>\n",
              "      <td>0</td>\n",
              "      <td>0</td>\n",
              "      <td>0</td>\n",
              "      <td>0</td>\n",
              "      <td>0</td>\n",
              "      <td>0</td>\n",
              "      <td>0</td>\n",
              "      <td>0</td>\n",
              "      <td>0</td>\n",
              "      <td>0</td>\n",
              "      <td>0</td>\n",
              "      <td>0</td>\n",
              "      <td>0</td>\n",
              "      <td>0</td>\n",
              "      <td>...</td>\n",
              "      <td>1</td>\n",
              "      <td>1</td>\n",
              "      <td>3</td>\n",
              "      <td>1</td>\n",
              "      <td>3</td>\n",
              "      <td>1</td>\n",
              "      <td>2</td>\n",
              "      <td>2</td>\n",
              "      <td>0</td>\n",
              "      <td>1</td>\n",
              "      <td>1</td>\n",
              "      <td>1</td>\n",
              "      <td>1</td>\n",
              "      <td>0</td>\n",
              "      <td>0</td>\n",
              "      <td>0</td>\n",
              "      <td>0</td>\n",
              "      <td>0</td>\n",
              "      <td>1</td>\n",
              "      <td>0</td>\n",
              "      <td>4</td>\n",
              "      <td>2</td>\n",
              "      <td>3</td>\n",
              "      <td>0</td>\n",
              "      <td>1</td>\n",
              "      <td>2</td>\n",
              "      <td>0</td>\n",
              "      <td>0</td>\n",
              "      <td>0</td>\n",
              "      <td>1</td>\n",
              "      <td>1</td>\n",
              "      <td>3</td>\n",
              "      <td>0</td>\n",
              "      <td>1</td>\n",
              "      <td>1</td>\n",
              "      <td>1</td>\n",
              "      <td>3</td>\n",
              "      <td>0</td>\n",
              "      <td>1</td>\n",
              "      <td>1</td>\n",
              "    </tr>\n",
              "    <tr>\n",
              "      <th>1</th>\n",
              "      <td>HOBBIES_1_002_CA_1_validation</td>\n",
              "      <td>HOBBIES_1_002</td>\n",
              "      <td>HOBBIES_1</td>\n",
              "      <td>HOBBIES</td>\n",
              "      <td>CA_1</td>\n",
              "      <td>CA</td>\n",
              "      <td>0</td>\n",
              "      <td>0</td>\n",
              "      <td>0</td>\n",
              "      <td>0</td>\n",
              "      <td>0</td>\n",
              "      <td>0</td>\n",
              "      <td>0</td>\n",
              "      <td>0</td>\n",
              "      <td>0</td>\n",
              "      <td>0</td>\n",
              "      <td>0</td>\n",
              "      <td>0</td>\n",
              "      <td>0</td>\n",
              "      <td>0</td>\n",
              "      <td>0</td>\n",
              "      <td>0</td>\n",
              "      <td>0</td>\n",
              "      <td>0</td>\n",
              "      <td>0</td>\n",
              "      <td>0</td>\n",
              "      <td>0</td>\n",
              "      <td>0</td>\n",
              "      <td>0</td>\n",
              "      <td>0</td>\n",
              "      <td>0</td>\n",
              "      <td>0</td>\n",
              "      <td>0</td>\n",
              "      <td>0</td>\n",
              "      <td>0</td>\n",
              "      <td>0</td>\n",
              "      <td>0</td>\n",
              "      <td>0</td>\n",
              "      <td>0</td>\n",
              "      <td>0</td>\n",
              "      <td>...</td>\n",
              "      <td>0</td>\n",
              "      <td>0</td>\n",
              "      <td>0</td>\n",
              "      <td>0</td>\n",
              "      <td>0</td>\n",
              "      <td>0</td>\n",
              "      <td>0</td>\n",
              "      <td>0</td>\n",
              "      <td>1</td>\n",
              "      <td>1</td>\n",
              "      <td>1</td>\n",
              "      <td>1</td>\n",
              "      <td>1</td>\n",
              "      <td>0</td>\n",
              "      <td>0</td>\n",
              "      <td>0</td>\n",
              "      <td>0</td>\n",
              "      <td>0</td>\n",
              "      <td>0</td>\n",
              "      <td>0</td>\n",
              "      <td>0</td>\n",
              "      <td>0</td>\n",
              "      <td>0</td>\n",
              "      <td>0</td>\n",
              "      <td>0</td>\n",
              "      <td>0</td>\n",
              "      <td>0</td>\n",
              "      <td>0</td>\n",
              "      <td>0</td>\n",
              "      <td>0</td>\n",
              "      <td>0</td>\n",
              "      <td>0</td>\n",
              "      <td>0</td>\n",
              "      <td>0</td>\n",
              "      <td>0</td>\n",
              "      <td>1</td>\n",
              "      <td>0</td>\n",
              "      <td>0</td>\n",
              "      <td>0</td>\n",
              "      <td>0</td>\n",
              "    </tr>\n",
              "    <tr>\n",
              "      <th>2</th>\n",
              "      <td>HOBBIES_1_003_CA_1_validation</td>\n",
              "      <td>HOBBIES_1_003</td>\n",
              "      <td>HOBBIES_1</td>\n",
              "      <td>HOBBIES</td>\n",
              "      <td>CA_1</td>\n",
              "      <td>CA</td>\n",
              "      <td>0</td>\n",
              "      <td>0</td>\n",
              "      <td>0</td>\n",
              "      <td>0</td>\n",
              "      <td>0</td>\n",
              "      <td>0</td>\n",
              "      <td>0</td>\n",
              "      <td>0</td>\n",
              "      <td>0</td>\n",
              "      <td>0</td>\n",
              "      <td>0</td>\n",
              "      <td>0</td>\n",
              "      <td>0</td>\n",
              "      <td>0</td>\n",
              "      <td>0</td>\n",
              "      <td>0</td>\n",
              "      <td>0</td>\n",
              "      <td>0</td>\n",
              "      <td>0</td>\n",
              "      <td>0</td>\n",
              "      <td>0</td>\n",
              "      <td>0</td>\n",
              "      <td>0</td>\n",
              "      <td>0</td>\n",
              "      <td>0</td>\n",
              "      <td>0</td>\n",
              "      <td>0</td>\n",
              "      <td>0</td>\n",
              "      <td>0</td>\n",
              "      <td>0</td>\n",
              "      <td>0</td>\n",
              "      <td>0</td>\n",
              "      <td>0</td>\n",
              "      <td>0</td>\n",
              "      <td>...</td>\n",
              "      <td>0</td>\n",
              "      <td>0</td>\n",
              "      <td>1</td>\n",
              "      <td>0</td>\n",
              "      <td>0</td>\n",
              "      <td>0</td>\n",
              "      <td>0</td>\n",
              "      <td>0</td>\n",
              "      <td>0</td>\n",
              "      <td>1</td>\n",
              "      <td>1</td>\n",
              "      <td>0</td>\n",
              "      <td>0</td>\n",
              "      <td>0</td>\n",
              "      <td>0</td>\n",
              "      <td>0</td>\n",
              "      <td>0</td>\n",
              "      <td>0</td>\n",
              "      <td>1</td>\n",
              "      <td>0</td>\n",
              "      <td>0</td>\n",
              "      <td>0</td>\n",
              "      <td>1</td>\n",
              "      <td>0</td>\n",
              "      <td>0</td>\n",
              "      <td>0</td>\n",
              "      <td>0</td>\n",
              "      <td>0</td>\n",
              "      <td>1</td>\n",
              "      <td>2</td>\n",
              "      <td>2</td>\n",
              "      <td>1</td>\n",
              "      <td>2</td>\n",
              "      <td>1</td>\n",
              "      <td>1</td>\n",
              "      <td>1</td>\n",
              "      <td>0</td>\n",
              "      <td>1</td>\n",
              "      <td>1</td>\n",
              "      <td>1</td>\n",
              "    </tr>\n",
              "    <tr>\n",
              "      <th>3</th>\n",
              "      <td>HOBBIES_1_004_CA_1_validation</td>\n",
              "      <td>HOBBIES_1_004</td>\n",
              "      <td>HOBBIES_1</td>\n",
              "      <td>HOBBIES</td>\n",
              "      <td>CA_1</td>\n",
              "      <td>CA</td>\n",
              "      <td>0</td>\n",
              "      <td>0</td>\n",
              "      <td>0</td>\n",
              "      <td>0</td>\n",
              "      <td>0</td>\n",
              "      <td>0</td>\n",
              "      <td>0</td>\n",
              "      <td>0</td>\n",
              "      <td>0</td>\n",
              "      <td>0</td>\n",
              "      <td>0</td>\n",
              "      <td>0</td>\n",
              "      <td>0</td>\n",
              "      <td>0</td>\n",
              "      <td>0</td>\n",
              "      <td>0</td>\n",
              "      <td>0</td>\n",
              "      <td>0</td>\n",
              "      <td>0</td>\n",
              "      <td>0</td>\n",
              "      <td>0</td>\n",
              "      <td>0</td>\n",
              "      <td>0</td>\n",
              "      <td>0</td>\n",
              "      <td>0</td>\n",
              "      <td>0</td>\n",
              "      <td>0</td>\n",
              "      <td>0</td>\n",
              "      <td>0</td>\n",
              "      <td>0</td>\n",
              "      <td>0</td>\n",
              "      <td>0</td>\n",
              "      <td>0</td>\n",
              "      <td>0</td>\n",
              "      <td>...</td>\n",
              "      <td>1</td>\n",
              "      <td>3</td>\n",
              "      <td>4</td>\n",
              "      <td>2</td>\n",
              "      <td>1</td>\n",
              "      <td>4</td>\n",
              "      <td>1</td>\n",
              "      <td>3</td>\n",
              "      <td>5</td>\n",
              "      <td>0</td>\n",
              "      <td>6</td>\n",
              "      <td>6</td>\n",
              "      <td>0</td>\n",
              "      <td>0</td>\n",
              "      <td>0</td>\n",
              "      <td>0</td>\n",
              "      <td>3</td>\n",
              "      <td>1</td>\n",
              "      <td>2</td>\n",
              "      <td>1</td>\n",
              "      <td>3</td>\n",
              "      <td>1</td>\n",
              "      <td>0</td>\n",
              "      <td>2</td>\n",
              "      <td>5</td>\n",
              "      <td>4</td>\n",
              "      <td>2</td>\n",
              "      <td>0</td>\n",
              "      <td>3</td>\n",
              "      <td>0</td>\n",
              "      <td>1</td>\n",
              "      <td>0</td>\n",
              "      <td>5</td>\n",
              "      <td>4</td>\n",
              "      <td>1</td>\n",
              "      <td>0</td>\n",
              "      <td>1</td>\n",
              "      <td>3</td>\n",
              "      <td>7</td>\n",
              "      <td>2</td>\n",
              "    </tr>\n",
              "    <tr>\n",
              "      <th>4</th>\n",
              "      <td>HOBBIES_1_005_CA_1_validation</td>\n",
              "      <td>HOBBIES_1_005</td>\n",
              "      <td>HOBBIES_1</td>\n",
              "      <td>HOBBIES</td>\n",
              "      <td>CA_1</td>\n",
              "      <td>CA</td>\n",
              "      <td>0</td>\n",
              "      <td>0</td>\n",
              "      <td>0</td>\n",
              "      <td>0</td>\n",
              "      <td>0</td>\n",
              "      <td>0</td>\n",
              "      <td>0</td>\n",
              "      <td>0</td>\n",
              "      <td>0</td>\n",
              "      <td>0</td>\n",
              "      <td>0</td>\n",
              "      <td>0</td>\n",
              "      <td>0</td>\n",
              "      <td>0</td>\n",
              "      <td>0</td>\n",
              "      <td>0</td>\n",
              "      <td>0</td>\n",
              "      <td>0</td>\n",
              "      <td>0</td>\n",
              "      <td>0</td>\n",
              "      <td>0</td>\n",
              "      <td>0</td>\n",
              "      <td>0</td>\n",
              "      <td>0</td>\n",
              "      <td>0</td>\n",
              "      <td>0</td>\n",
              "      <td>0</td>\n",
              "      <td>0</td>\n",
              "      <td>0</td>\n",
              "      <td>0</td>\n",
              "      <td>0</td>\n",
              "      <td>0</td>\n",
              "      <td>0</td>\n",
              "      <td>0</td>\n",
              "      <td>...</td>\n",
              "      <td>1</td>\n",
              "      <td>0</td>\n",
              "      <td>3</td>\n",
              "      <td>2</td>\n",
              "      <td>2</td>\n",
              "      <td>2</td>\n",
              "      <td>3</td>\n",
              "      <td>1</td>\n",
              "      <td>0</td>\n",
              "      <td>0</td>\n",
              "      <td>0</td>\n",
              "      <td>0</td>\n",
              "      <td>1</td>\n",
              "      <td>0</td>\n",
              "      <td>4</td>\n",
              "      <td>4</td>\n",
              "      <td>0</td>\n",
              "      <td>1</td>\n",
              "      <td>4</td>\n",
              "      <td>0</td>\n",
              "      <td>1</td>\n",
              "      <td>0</td>\n",
              "      <td>1</td>\n",
              "      <td>0</td>\n",
              "      <td>1</td>\n",
              "      <td>1</td>\n",
              "      <td>2</td>\n",
              "      <td>0</td>\n",
              "      <td>1</td>\n",
              "      <td>1</td>\n",
              "      <td>2</td>\n",
              "      <td>1</td>\n",
              "      <td>1</td>\n",
              "      <td>0</td>\n",
              "      <td>1</td>\n",
              "      <td>1</td>\n",
              "      <td>2</td>\n",
              "      <td>2</td>\n",
              "      <td>2</td>\n",
              "      <td>4</td>\n",
              "    </tr>\n",
              "  </tbody>\n",
              "</table>\n",
              "<p>5 rows × 1919 columns</p>\n",
              "</div>"
            ],
            "text/plain": [
              "                              id        item_id  ... d_1912 d_1913\n",
              "0  HOBBIES_1_001_CA_1_validation  HOBBIES_1_001  ...      1      1\n",
              "1  HOBBIES_1_002_CA_1_validation  HOBBIES_1_002  ...      0      0\n",
              "2  HOBBIES_1_003_CA_1_validation  HOBBIES_1_003  ...      1      1\n",
              "3  HOBBIES_1_004_CA_1_validation  HOBBIES_1_004  ...      7      2\n",
              "4  HOBBIES_1_005_CA_1_validation  HOBBIES_1_005  ...      2      4\n",
              "\n",
              "[5 rows x 1919 columns]"
            ]
          },
          "metadata": {
            "tags": []
          },
          "execution_count": 3
        }
      ]
    },
    {
      "cell_type": "code",
      "metadata": {
        "id": "Vj6dRtOMCNHr",
        "outputId": "31257dad-276b-498b-e5df-989cb5600c9e",
        "colab": {
          "base_uri": "https://localhost:8080/",
          "height": 35
        }
      },
      "source": [
        "sells_train.shape"
      ],
      "execution_count": null,
      "outputs": [
        {
          "output_type": "execute_result",
          "data": {
            "text/plain": [
              "(30490, 1919)"
            ]
          },
          "metadata": {
            "tags": []
          },
          "execution_count": 5
        }
      ]
    },
    {
      "cell_type": "markdown",
      "metadata": {
        "id": "5FZijJJQ4U61"
      },
      "source": [
        "From the above, we have a total of 30,490 rows of data, with each data having 1,919 columns. These columns include basic information about the products and its sales volume from d_1 to d_1913.\n",
        "\n",
        "Next, read the data from \"calendar.csv.\""
      ]
    },
    {
      "cell_type": "code",
      "metadata": {
        "id": "zinM6wSyCNH0",
        "outputId": "66cd2599-b49d-41c3-abec-610a6d18dcce",
        "colab": {
          "base_uri": "https://localhost:8080/",
          "height": 202
        }
      },
      "source": [
        "calendar = pd.read_csv(data_dir + \"calendar.csv\")\n",
        "calendar.head()"
      ],
      "execution_count": null,
      "outputs": [
        {
          "output_type": "execute_result",
          "data": {
            "text/html": [
              "<div>\n",
              "<style scoped>\n",
              "    .dataframe tbody tr th:only-of-type {\n",
              "        vertical-align: middle;\n",
              "    }\n",
              "\n",
              "    .dataframe tbody tr th {\n",
              "        vertical-align: top;\n",
              "    }\n",
              "\n",
              "    .dataframe thead th {\n",
              "        text-align: right;\n",
              "    }\n",
              "</style>\n",
              "<table border=\"1\" class=\"dataframe\">\n",
              "  <thead>\n",
              "    <tr style=\"text-align: right;\">\n",
              "      <th></th>\n",
              "      <th>date</th>\n",
              "      <th>wm_yr_wk</th>\n",
              "      <th>weekday</th>\n",
              "      <th>wday</th>\n",
              "      <th>month</th>\n",
              "      <th>year</th>\n",
              "      <th>d</th>\n",
              "      <th>event_name_1</th>\n",
              "      <th>event_type_1</th>\n",
              "      <th>event_name_2</th>\n",
              "      <th>event_type_2</th>\n",
              "      <th>snap_CA</th>\n",
              "      <th>snap_TX</th>\n",
              "      <th>snap_WI</th>\n",
              "    </tr>\n",
              "  </thead>\n",
              "  <tbody>\n",
              "    <tr>\n",
              "      <th>0</th>\n",
              "      <td>2011-01-29</td>\n",
              "      <td>11101</td>\n",
              "      <td>Saturday</td>\n",
              "      <td>1</td>\n",
              "      <td>1</td>\n",
              "      <td>2011</td>\n",
              "      <td>d_1</td>\n",
              "      <td>NaN</td>\n",
              "      <td>NaN</td>\n",
              "      <td>NaN</td>\n",
              "      <td>NaN</td>\n",
              "      <td>0</td>\n",
              "      <td>0</td>\n",
              "      <td>0</td>\n",
              "    </tr>\n",
              "    <tr>\n",
              "      <th>1</th>\n",
              "      <td>2011-01-30</td>\n",
              "      <td>11101</td>\n",
              "      <td>Sunday</td>\n",
              "      <td>2</td>\n",
              "      <td>1</td>\n",
              "      <td>2011</td>\n",
              "      <td>d_2</td>\n",
              "      <td>NaN</td>\n",
              "      <td>NaN</td>\n",
              "      <td>NaN</td>\n",
              "      <td>NaN</td>\n",
              "      <td>0</td>\n",
              "      <td>0</td>\n",
              "      <td>0</td>\n",
              "    </tr>\n",
              "    <tr>\n",
              "      <th>2</th>\n",
              "      <td>2011-01-31</td>\n",
              "      <td>11101</td>\n",
              "      <td>Monday</td>\n",
              "      <td>3</td>\n",
              "      <td>1</td>\n",
              "      <td>2011</td>\n",
              "      <td>d_3</td>\n",
              "      <td>NaN</td>\n",
              "      <td>NaN</td>\n",
              "      <td>NaN</td>\n",
              "      <td>NaN</td>\n",
              "      <td>0</td>\n",
              "      <td>0</td>\n",
              "      <td>0</td>\n",
              "    </tr>\n",
              "    <tr>\n",
              "      <th>3</th>\n",
              "      <td>2011-02-01</td>\n",
              "      <td>11101</td>\n",
              "      <td>Tuesday</td>\n",
              "      <td>4</td>\n",
              "      <td>2</td>\n",
              "      <td>2011</td>\n",
              "      <td>d_4</td>\n",
              "      <td>NaN</td>\n",
              "      <td>NaN</td>\n",
              "      <td>NaN</td>\n",
              "      <td>NaN</td>\n",
              "      <td>1</td>\n",
              "      <td>1</td>\n",
              "      <td>0</td>\n",
              "    </tr>\n",
              "    <tr>\n",
              "      <th>4</th>\n",
              "      <td>2011-02-02</td>\n",
              "      <td>11101</td>\n",
              "      <td>Wednesday</td>\n",
              "      <td>5</td>\n",
              "      <td>2</td>\n",
              "      <td>2011</td>\n",
              "      <td>d_5</td>\n",
              "      <td>NaN</td>\n",
              "      <td>NaN</td>\n",
              "      <td>NaN</td>\n",
              "      <td>NaN</td>\n",
              "      <td>1</td>\n",
              "      <td>0</td>\n",
              "      <td>1</td>\n",
              "    </tr>\n",
              "  </tbody>\n",
              "</table>\n",
              "</div>"
            ],
            "text/plain": [
              "         date  wm_yr_wk    weekday  ...  snap_CA  snap_TX  snap_WI\n",
              "0  2011-01-29     11101   Saturday  ...        0        0        0\n",
              "1  2011-01-30     11101     Sunday  ...        0        0        0\n",
              "2  2011-01-31     11101     Monday  ...        0        0        0\n",
              "3  2011-02-01     11101    Tuesday  ...        1        1        0\n",
              "4  2011-02-02     11101  Wednesday  ...        1        0        1\n",
              "\n",
              "[5 rows x 14 columns]"
            ]
          },
          "metadata": {
            "tags": []
          },
          "execution_count": 6
        }
      ]
    },
    {
      "cell_type": "code",
      "metadata": {
        "id": "IhM63uRrCNIE",
        "outputId": "d2bd13c7-14b7-4251-abc6-d0480acac549",
        "colab": {
          "base_uri": "https://localhost:8080/",
          "height": 35
        }
      },
      "source": [
        "calendar.shape"
      ],
      "execution_count": null,
      "outputs": [
        {
          "output_type": "execute_result",
          "data": {
            "text/plain": [
              "(1969, 14)"
            ]
          },
          "metadata": {
            "tags": []
          },
          "execution_count": 7
        }
      ]
    },
    {
      "cell_type": "markdown",
      "metadata": {
        "id": "FsIjNmiw4rje"
      },
      "source": [
        "**day_extraction(calendar, snap, state, end_day)**\n",
        "\n",
        "Extract specific days based on the parameters and return an array containing those days.\n",
        "\n",
        "- calendar: the calendar data used\n",
        "- snap: 1 for snap = True, 0 for snap = False.\n",
        "- state: one of the three states - \"CA,\" \"TX,\" or \"WI\" (since the snap dates vary for each state\n",
        "- end_day, default = 1913: The end date for extraction"
      ]
    },
    {
      "cell_type": "code",
      "metadata": {
        "id": "gM1ZExgVCNIP"
      },
      "source": [
        "def day_extraction(calendar, snap, state, end_day = 1913):\n",
        "    snap2value = lambda x: 1 if x==True else 0\n",
        "    value = snap2value(snap)\n",
        "    stateName = 'snap_' + state\n",
        "    day_list = calendar[calendar[stateName] == value].loc[:, 'd'].values.tolist()\n",
        "    for i in range(len(day_list)-1, 0, -1):\n",
        "        if int(day_list[i][-4:]) > 1913:\n",
        "            day_list.pop()\n",
        "        else:\n",
        "            break\n",
        "    return np.array(day_list)"
      ],
      "execution_count": null,
      "outputs": []
    },
    {
      "cell_type": "markdown",
      "metadata": {
        "id": "xDjo5kiwCNIg"
      },
      "source": [
        "#### State vs snap"
      ]
    },
    {
      "cell_type": "code",
      "metadata": {
        "id": "oZlXzvZkCNIi"
      },
      "source": [
        "state_list = sells_train['state_id'].value_counts().index.tolist()\n",
        "days_list = []\n",
        "mean_with_snap = []\n",
        "mean_without_snap = []\n",
        "for i in range(len(state_list)):\n",
        "    days_list.append(day_extraction(calendar, snap = True, state = state_list[i]))\n",
        "    days_list.append(day_extraction(calendar, snap = False, state = state_list[i]))\n",
        "    mean_with_snap.append(sells_train[(sells_train['state_id'] == state_list[i])].loc[:, days_list[2*i]].mean().mean())\n",
        "    mean_without_snap.append(sells_train[(sells_train['state_id'] == state_list[i])].loc[:, days_list[2*i+1]].mean().mean())\n",
        "\n",
        "d = {'state' : state_list*2, 'mean' : mean_with_snap + mean_without_snap ,'snap':['With snap']*3 + ['Without snap']*3}\n",
        "snap_df = pd.DataFrame(d)"
      ],
      "execution_count": null,
      "outputs": []
    },
    {
      "cell_type": "code",
      "metadata": {
        "id": "j5io2F40XBZL",
        "outputId": "19c0892c-48e8-43ba-933f-b554afa93d1c",
        "colab": {
          "base_uri": "https://localhost:8080/",
          "height": 233
        }
      },
      "source": [
        "snap_df"
      ],
      "execution_count": null,
      "outputs": [
        {
          "output_type": "execute_result",
          "data": {
            "text/html": [
              "<div>\n",
              "<style scoped>\n",
              "    .dataframe tbody tr th:only-of-type {\n",
              "        vertical-align: middle;\n",
              "    }\n",
              "\n",
              "    .dataframe tbody tr th {\n",
              "        vertical-align: top;\n",
              "    }\n",
              "\n",
              "    .dataframe thead th {\n",
              "        text-align: right;\n",
              "    }\n",
              "</style>\n",
              "<table border=\"1\" class=\"dataframe\">\n",
              "  <thead>\n",
              "    <tr style=\"text-align: right;\">\n",
              "      <th></th>\n",
              "      <th>state</th>\n",
              "      <th>mean</th>\n",
              "      <th>snap</th>\n",
              "    </tr>\n",
              "  </thead>\n",
              "  <tbody>\n",
              "    <tr>\n",
              "      <th>0</th>\n",
              "      <td>CA</td>\n",
              "      <td>1.293202</td>\n",
              "      <td>With snap</td>\n",
              "    </tr>\n",
              "    <tr>\n",
              "      <th>1</th>\n",
              "      <td>WI</td>\n",
              "      <td>1.176733</td>\n",
              "      <td>With snap</td>\n",
              "    </tr>\n",
              "    <tr>\n",
              "      <th>2</th>\n",
              "      <td>TX</td>\n",
              "      <td>1.160242</td>\n",
              "      <td>With snap</td>\n",
              "    </tr>\n",
              "    <tr>\n",
              "      <th>3</th>\n",
              "      <td>CA</td>\n",
              "      <td>1.197590</td>\n",
              "      <td>Without snap</td>\n",
              "    </tr>\n",
              "    <tr>\n",
              "      <th>4</th>\n",
              "      <td>WI</td>\n",
              "      <td>0.966274</td>\n",
              "      <td>Without snap</td>\n",
              "    </tr>\n",
              "    <tr>\n",
              "      <th>5</th>\n",
              "      <td>TX</td>\n",
              "      <td>1.040678</td>\n",
              "      <td>Without snap</td>\n",
              "    </tr>\n",
              "  </tbody>\n",
              "</table>\n",
              "</div>"
            ],
            "text/plain": [
              "  state      mean          snap\n",
              "0    CA  1.293202     With snap\n",
              "1    WI  1.176733     With snap\n",
              "2    TX  1.160242     With snap\n",
              "3    CA  1.197590  Without snap\n",
              "4    WI  0.966274  Without snap\n",
              "5    TX  1.040678  Without snap"
            ]
          },
          "metadata": {
            "tags": []
          },
          "execution_count": 21
        }
      ]
    },
    {
      "cell_type": "code",
      "metadata": {
        "id": "op0LZ-9lCNIu",
        "outputId": "1a2b34a3-5cd4-47b6-9238-bc7052eeba4c",
        "colab": {
          "base_uri": "https://localhost:8080/",
          "height": 338
        }
      },
      "source": [
        "plt.figure(figsize=(8, 5))\n",
        "ax = sns.barplot(x=\"state\", hue=\"snap\", y=\"mean\", data=snap_df)\n",
        "ax.set_ylabel(\"Average sales numbers per day\")\n",
        "for p in ax.patches:\n",
        "    ax.annotate(\"%.2f\" % p.get_height(), (p.get_x() + p.get_width() / 2., p.get_height()),\n",
        "         ha='center', va='center', fontsize=11, color='black', xytext=(0, 10),\n",
        "         textcoords='offset points')\n",
        "_ = ax.set_ylim(0,1.8)\n",
        "plt.legend(loc='upper left')\n",
        "plt.show()\n",
        "plt.close()"
      ],
      "execution_count": null,
      "outputs": [
        {
          "output_type": "display_data",
          "data": {
            "image/png": "[encoded data removed]",
            "text/plain": [
              "<Figure size 576x360 with 1 Axes>"
            ]
          },
          "metadata": {
            "tags": [],
            "needs_background": "light"
          }
        }
      ]
    },
    {
      "cell_type": "code",
      "metadata": {
        "id": "vo75RE3MCNI4",
        "outputId": "da84ec8f-28a1-4cae-8672-62d7cddb3b67",
        "colab": {
          "base_uri": "https://localhost:8080/",
          "height": 141
        }
      },
      "source": [
        "snap_compare = snap_df.iloc[:3, :2].copy()\n",
        "snap_compare.columns = ['State', 'Mean_with_snap']\n",
        "snap_compare['Mean_without_snap'] = snap_df.iloc[3:,1].tolist()\n",
        "snap_compare['Growth with snap(%)'] = (snap_compare['Mean_with_snap'] /snap_compare['Mean_without_snap'] - 1)*100\n",
        "snap_compare"
      ],
      "execution_count": null,
      "outputs": [
        {
          "output_type": "execute_result",
          "data": {
            "text/html": [
              "<div>\n",
              "<style scoped>\n",
              "    .dataframe tbody tr th:only-of-type {\n",
              "        vertical-align: middle;\n",
              "    }\n",
              "\n",
              "    .dataframe tbody tr th {\n",
              "        vertical-align: top;\n",
              "    }\n",
              "\n",
              "    .dataframe thead th {\n",
              "        text-align: right;\n",
              "    }\n",
              "</style>\n",
              "<table border=\"1\" class=\"dataframe\">\n",
              "  <thead>\n",
              "    <tr style=\"text-align: right;\">\n",
              "      <th></th>\n",
              "      <th>State</th>\n",
              "      <th>Mean_with_snap</th>\n",
              "      <th>Mean_without_snap</th>\n",
              "      <th>Growth with snap(%)</th>\n",
              "    </tr>\n",
              "  </thead>\n",
              "  <tbody>\n",
              "    <tr>\n",
              "      <th>0</th>\n",
              "      <td>CA</td>\n",
              "      <td>1.293202</td>\n",
              "      <td>1.197590</td>\n",
              "      <td>7.983615</td>\n",
              "    </tr>\n",
              "    <tr>\n",
              "      <th>1</th>\n",
              "      <td>WI</td>\n",
              "      <td>1.176733</td>\n",
              "      <td>0.966274</td>\n",
              "      <td>21.780524</td>\n",
              "    </tr>\n",
              "    <tr>\n",
              "      <th>2</th>\n",
              "      <td>TX</td>\n",
              "      <td>1.160242</td>\n",
              "      <td>1.040678</td>\n",
              "      <td>11.489051</td>\n",
              "    </tr>\n",
              "  </tbody>\n",
              "</table>\n",
              "</div>"
            ],
            "text/plain": [
              "  State  Mean_with_snap  Mean_without_snap  Growth with snap(%)\n",
              "0    CA        1.293202           1.197590             7.983615\n",
              "1    WI        1.176733           0.966274            21.780524\n",
              "2    TX        1.160242           1.040678            11.489051"
            ]
          },
          "metadata": {
            "tags": []
          },
          "execution_count": 16
        }
      ]
    },
    {
      "cell_type": "markdown",
      "metadata": {
        "id": "e9X-plXcYtGF"
      },
      "source": [
        "We can learn from the above that snap has a positive impact on sales in all states, although the degree of impact varies slightly."
      ]
    },
    {
      "cell_type": "markdown",
      "metadata": {
        "id": "2CVJDs0MUVjq"
      },
      "source": [
        "##### Product category vs snap\n",
        "Analyze snap's impact on the sales volume of each product category in all states."
      ]
    },
    {
      "cell_type": "code",
      "metadata": {
        "id": "dmidYDsSVKjy",
        "outputId": "9fcff05c-06ec-493c-b201-f451985bf4be",
        "colab": {
          "base_uri": "https://localhost:8080/",
          "height": 35
        }
      },
      "source": [
        "item_cat_list = sells_train['cat_id'].value_counts().index.tolist()\n",
        "item_cat_list"
      ],
      "execution_count": null,
      "outputs": [
        {
          "output_type": "execute_result",
          "data": {
            "text/plain": [
              "['FOODS', 'HOUSEHOLD', 'HOBBIES']"
            ]
          },
          "metadata": {
            "tags": []
          },
          "execution_count": 18
        }
      ]
    },
    {
      "cell_type": "code",
      "metadata": {
        "id": "RTf7UHcMUShN"
      },
      "source": [
        "state_list = sells_train['state_id'].value_counts().index.tolist()\n",
        "days_list = []\n",
        "mean_with_snap = []\n",
        "mean_without_snap = []\n",
        "for i in range(len(state_list)):\n",
        "    days_list.append(day_extraction(calendar, snap = True, state = state_list[i]))\n",
        "    days_list.append(day_extraction(calendar, snap = False, state = state_list[i]))\n",
        "    for j in range(len(item_cat_list)):\n",
        "      mean_with_snap.append(sells_train[(sells_train['state_id'] == state_list[i]) & (sells_train['cat_id']==item_cat_list[j])]\\\n",
        "                            .loc[:, days_list[2*i]].mean().mean())\n",
        "      mean_without_snap.append(sells_train[(sells_train['state_id'] == state_list[i])& (sells_train['cat_id']==item_cat_list[j])]\\\n",
        "                               .loc[:, days_list[2*i+1]].mean().mean())"
      ],
      "execution_count": null,
      "outputs": []
    },
    {
      "cell_type": "code",
      "metadata": {
        "id": "kYr8HljrXWXa",
        "outputId": "58f629ee-fbb6-45ba-e3e9-f4a0e0fb4d35",
        "colab": {
          "base_uri": "https://localhost:8080/",
          "height": 601
        }
      },
      "source": [
        "state_list_dup = state_list*3\n",
        "state_list_dup.sort()\n",
        "d = {'state' : state_list_dup*2, 'mean' : mean_with_snap + mean_without_snap ,'cat_id':item_cat_list*6, 'snap':['With snap']*9 + ['Without snap']*9}\n",
        "snap_df = pd.DataFrame(d)\n",
        "snap_df['state_cat_id'] = snap_df['state'] + '_' + snap_df['cat_id']\n",
        "snap_df"
      ],
      "execution_count": null,
      "outputs": [
        {
          "output_type": "execute_result",
          "data": {
            "text/html": [
              "<div>\n",
              "<style scoped>\n",
              "    .dataframe tbody tr th:only-of-type {\n",
              "        vertical-align: middle;\n",
              "    }\n",
              "\n",
              "    .dataframe tbody tr th {\n",
              "        vertical-align: top;\n",
              "    }\n",
              "\n",
              "    .dataframe thead th {\n",
              "        text-align: right;\n",
              "    }\n",
              "</style>\n",
              "<table border=\"1\" class=\"dataframe\">\n",
              "  <thead>\n",
              "    <tr style=\"text-align: right;\">\n",
              "      <th></th>\n",
              "      <th>state</th>\n",
              "      <th>mean</th>\n",
              "      <th>cat_id</th>\n",
              "      <th>snap</th>\n",
              "      <th>state_cat_id</th>\n",
              "    </tr>\n",
              "  </thead>\n",
              "  <tbody>\n",
              "    <tr>\n",
              "      <th>0</th>\n",
              "      <td>CA</td>\n",
              "      <td>1.862391</td>\n",
              "      <td>FOODS</td>\n",
              "      <td>With snap</td>\n",
              "      <td>CA_FOODS</td>\n",
              "    </tr>\n",
              "    <tr>\n",
              "      <th>1</th>\n",
              "      <td>CA</td>\n",
              "      <td>0.822962</td>\n",
              "      <td>HOUSEHOLD</td>\n",
              "      <td>With snap</td>\n",
              "      <td>CA_HOUSEHOLD</td>\n",
              "    </tr>\n",
              "    <tr>\n",
              "      <th>2</th>\n",
              "      <td>CA</td>\n",
              "      <td>0.716944</td>\n",
              "      <td>HOBBIES</td>\n",
              "      <td>With snap</td>\n",
              "      <td>CA_HOBBIES</td>\n",
              "    </tr>\n",
              "    <tr>\n",
              "      <th>3</th>\n",
              "      <td>TX</td>\n",
              "      <td>1.855156</td>\n",
              "      <td>FOODS</td>\n",
              "      <td>With snap</td>\n",
              "      <td>TX_FOODS</td>\n",
              "    </tr>\n",
              "    <tr>\n",
              "      <th>4</th>\n",
              "      <td>TX</td>\n",
              "      <td>0.629186</td>\n",
              "      <td>HOUSEHOLD</td>\n",
              "      <td>With snap</td>\n",
              "      <td>TX_HOUSEHOLD</td>\n",
              "    </tr>\n",
              "    <tr>\n",
              "      <th>5</th>\n",
              "      <td>TX</td>\n",
              "      <td>0.465915</td>\n",
              "      <td>HOBBIES</td>\n",
              "      <td>With snap</td>\n",
              "      <td>TX_HOBBIES</td>\n",
              "    </tr>\n",
              "    <tr>\n",
              "      <th>6</th>\n",
              "      <td>WI</td>\n",
              "      <td>1.727489</td>\n",
              "      <td>FOODS</td>\n",
              "      <td>With snap</td>\n",
              "      <td>WI_FOODS</td>\n",
              "    </tr>\n",
              "    <tr>\n",
              "      <th>7</th>\n",
              "      <td>WI</td>\n",
              "      <td>0.739282</td>\n",
              "      <td>HOUSEHOLD</td>\n",
              "      <td>With snap</td>\n",
              "      <td>WI_HOUSEHOLD</td>\n",
              "    </tr>\n",
              "    <tr>\n",
              "      <th>8</th>\n",
              "      <td>WI</td>\n",
              "      <td>0.497606</td>\n",
              "      <td>HOBBIES</td>\n",
              "      <td>With snap</td>\n",
              "      <td>WI_HOBBIES</td>\n",
              "    </tr>\n",
              "    <tr>\n",
              "      <th>9</th>\n",
              "      <td>CA</td>\n",
              "      <td>1.688498</td>\n",
              "      <td>FOODS</td>\n",
              "      <td>Without snap</td>\n",
              "      <td>CA_FOODS</td>\n",
              "    </tr>\n",
              "    <tr>\n",
              "      <th>10</th>\n",
              "      <td>CA</td>\n",
              "      <td>0.794317</td>\n",
              "      <td>HOUSEHOLD</td>\n",
              "      <td>Without snap</td>\n",
              "      <td>CA_HOUSEHOLD</td>\n",
              "    </tr>\n",
              "    <tr>\n",
              "      <th>11</th>\n",
              "      <td>CA</td>\n",
              "      <td>0.696342</td>\n",
              "      <td>HOBBIES</td>\n",
              "      <td>Without snap</td>\n",
              "      <td>CA_HOBBIES</td>\n",
              "    </tr>\n",
              "    <tr>\n",
              "      <th>12</th>\n",
              "      <td>TX</td>\n",
              "      <td>1.428082</td>\n",
              "      <td>FOODS</td>\n",
              "      <td>Without snap</td>\n",
              "      <td>TX_FOODS</td>\n",
              "    </tr>\n",
              "    <tr>\n",
              "      <th>13</th>\n",
              "      <td>TX</td>\n",
              "      <td>0.606965</td>\n",
              "      <td>HOUSEHOLD</td>\n",
              "      <td>Without snap</td>\n",
              "      <td>TX_HOUSEHOLD</td>\n",
              "    </tr>\n",
              "    <tr>\n",
              "      <th>14</th>\n",
              "      <td>TX</td>\n",
              "      <td>0.457561</td>\n",
              "      <td>HOBBIES</td>\n",
              "      <td>Without snap</td>\n",
              "      <td>TX_HOBBIES</td>\n",
              "    </tr>\n",
              "    <tr>\n",
              "      <th>15</th>\n",
              "      <td>WI</td>\n",
              "      <td>1.494244</td>\n",
              "      <td>FOODS</td>\n",
              "      <td>Without snap</td>\n",
              "      <td>WI_FOODS</td>\n",
              "    </tr>\n",
              "    <tr>\n",
              "      <th>16</th>\n",
              "      <td>WI</td>\n",
              "      <td>0.716477</td>\n",
              "      <td>HOUSEHOLD</td>\n",
              "      <td>Without snap</td>\n",
              "      <td>WI_HOUSEHOLD</td>\n",
              "    </tr>\n",
              "    <tr>\n",
              "      <th>17</th>\n",
              "      <td>WI</td>\n",
              "      <td>0.487873</td>\n",
              "      <td>HOBBIES</td>\n",
              "      <td>Without snap</td>\n",
              "      <td>WI_HOBBIES</td>\n",
              "    </tr>\n",
              "  </tbody>\n",
              "</table>\n",
              "</div>"
            ],
            "text/plain": [
              "   state      mean     cat_id          snap  state_cat_id\n",
              "0     CA  1.862391      FOODS     With snap      CA_FOODS\n",
              "1     CA  0.822962  HOUSEHOLD     With snap  CA_HOUSEHOLD\n",
              "2     CA  0.716944    HOBBIES     With snap    CA_HOBBIES\n",
              "3     TX  1.855156      FOODS     With snap      TX_FOODS\n",
              "4     TX  0.629186  HOUSEHOLD     With snap  TX_HOUSEHOLD\n",
              "5     TX  0.465915    HOBBIES     With snap    TX_HOBBIES\n",
              "6     WI  1.727489      FOODS     With snap      WI_FOODS\n",
              "7     WI  0.739282  HOUSEHOLD     With snap  WI_HOUSEHOLD\n",
              "8     WI  0.497606    HOBBIES     With snap    WI_HOBBIES\n",
              "9     CA  1.688498      FOODS  Without snap      CA_FOODS\n",
              "10    CA  0.794317  HOUSEHOLD  Without snap  CA_HOUSEHOLD\n",
              "11    CA  0.696342    HOBBIES  Without snap    CA_HOBBIES\n",
              "12    TX  1.428082      FOODS  Without snap      TX_FOODS\n",
              "13    TX  0.606965  HOUSEHOLD  Without snap  TX_HOUSEHOLD\n",
              "14    TX  0.457561    HOBBIES  Without snap    TX_HOBBIES\n",
              "15    WI  1.494244      FOODS  Without snap      WI_FOODS\n",
              "16    WI  0.716477  HOUSEHOLD  Without snap  WI_HOUSEHOLD\n",
              "17    WI  0.487873    HOBBIES  Without snap    WI_HOBBIES"
            ]
          },
          "metadata": {
            "tags": []
          },
          "execution_count": 27
        }
      ]
    },
    {
      "cell_type": "code",
      "metadata": {
        "id": "FXU9GxLvYCOd",
        "outputId": "ae3565bc-b991-4f20-c7ba-2f8f177e6b02",
        "colab": {
          "base_uri": "https://localhost:8080/",
          "height": 340
        }
      },
      "source": [
        "plt.figure(figsize=(12, 5))\n",
        "ax = sns.barplot(x=\"state_cat_id\", hue=\"snap\", y=\"mean\", data=snap_df)\n",
        "ax.set_ylabel(\"Average sales numbers per day\")\n",
        "for p in ax.patches:\n",
        "    ax.annotate(\"%.2f\" % p.get_height(), (p.get_x() + p.get_width() / 2., p.get_height()),\n",
        "         ha='center', va='center', fontsize=11, color='black', xytext=(0, 10),\n",
        "         textcoords='offset points')\n",
        "_ = ax.set_ylim(0,2.5)\n",
        "plt.legend(loc='upper left')\n",
        "plt.show()\n",
        "plt.close()"
      ],
      "execution_count": null,
      "outputs": [
        {
          "output_type": "display_data",
          "data": {
            "image/png": "[encoded data removed]",
            "text/plain": [
              "<Figure size 864x360 with 1 Axes>"
            ]
          },
          "metadata": {
            "tags": [],
            "needs_background": "light"
          }
        }
      ]
    },
    {
      "cell_type": "markdown",
      "metadata": {
        "id": "bhGGG9ERYkms"
      },
      "source": [
        "Observing the plot above, we can know that snap only has significant impact on FOODS sales."
      ]
    },
    {
      "cell_type": "markdown",
      "metadata": {
        "id": "p258HP5_CNJF"
      },
      "source": [
        "#### Store vs snap"
      ]
    },
    {
      "cell_type": "code",
      "metadata": {
        "id": "RP0s7rjlCNJH",
        "outputId": "0f2cf3b5-e068-4074-b16a-075778daa7da",
        "colab": {
          "base_uri": "https://localhost:8080/",
          "height": 208
        }
      },
      "source": [
        "stores = sells_train['store_id'].value_counts()\n",
        "stores"
      ],
      "execution_count": null,
      "outputs": [
        {
          "output_type": "execute_result",
          "data": {
            "text/plain": [
              "CA_3    3049\n",
              "WI_1    3049\n",
              "TX_2    3049\n",
              "WI_2    3049\n",
              "TX_3    3049\n",
              "CA_1    3049\n",
              "CA_4    3049\n",
              "WI_3    3049\n",
              "TX_1    3049\n",
              "CA_2    3049\n",
              "Name: store_id, dtype: int64"
            ]
          },
          "metadata": {
            "tags": []
          },
          "execution_count": 9
        }
      ]
    },
    {
      "cell_type": "code",
      "metadata": {
        "id": "0B25H58LCNJS"
      },
      "source": [
        "stores_id = stores.index.tolist()\n",
        "stores_id.sort()\n",
        "\n",
        "days_list = []\n",
        "mean_with_snap = []\n",
        "mean_without_snap = []\n",
        "for i in range(len(stores_id)):\n",
        "    state = stores_id[i][:2]\n",
        "    days_list.append(day_extraction(calendar, snap = True, state = state ))\n",
        "    days_list.append(day_extraction(calendar, snap = False, state = state))\n",
        "    mean_with_snap.append(sells_train[(sells_train['store_id'] == stores_id[i])].loc[:, days_list[2*i]].mean().mean())\n",
        "    mean_without_snap.append(sells_train[(sells_train['store_id'] == stores_id[i])].loc[:, days_list[2*i+1]].mean().mean())\n",
        "# print(mean_with_snap)\n",
        "# print(mean_without_snap)\n",
        "\n",
        "stores_df = pd.DataFrame({'Store_id':stores_id*2, 'Mean':mean_with_snap + mean_without_snap, 'snap':['With snap']*10 + ['Without snap']*10})"
      ],
      "execution_count": null,
      "outputs": []
    },
    {
      "cell_type": "code",
      "metadata": {
        "id": "WUWhnCarCNJj",
        "outputId": "f107dd0d-dfa1-4e5b-8b34-6aa9591558d2",
        "colab": {
          "base_uri": "https://localhost:8080/",
          "height": 499
        }
      },
      "source": [
        "plt.figure(figsize=(15, 8))\n",
        "ax = sns.barplot(x=\"Store_id\", hue=\"snap\", y=\"Mean\", data=stores_df)\n",
        "ax.set_ylabel(\"Average sales numbers per day\")\n",
        "for p in ax.patches:\n",
        "    ax.annotate(\"%.2f\" % p.get_height(), (p.get_x() + p.get_width() / 2., p.get_height()),\n",
        "         ha='center', va='center', fontsize=11, color='black', xytext=(0, 10),\n",
        "         textcoords='offset points')\n",
        "_ = ax.set_ylim(0,2.2)\n",
        "plt.legend(loc='upper left')\n",
        "plt.show()\n",
        "plt.close()"
      ],
      "execution_count": null,
      "outputs": [
        {
          "output_type": "display_data",
          "data": {
            "image/png": "[encoded data removed]",
            "text/plain": [
              "<Figure size 1080x576 with 1 Axes>"
            ]
          },
          "metadata": {
            "tags": [],
            "needs_background": "light"
          }
        }
      ]
    },
    {
      "cell_type": "code",
      "metadata": {
        "id": "zDLEAXphCNJu",
        "outputId": "87f34d1d-bcaf-4301-8624-e54a0d333230",
        "colab": {
          "base_uri": "https://localhost:8080/",
          "height": 355
        }
      },
      "source": [
        "stores_compare_df = pd.DataFrame({'Store_id':stores_id, 'Mean_with_snap' : mean_with_snap, 'Mean_without_snap':mean_without_snap})\n",
        "stores_compare_df['Growth with snap(%)'] =(stores_compare_df['Mean_with_snap']/stores_compare_df['Mean_without_snap']-1)*100\n",
        "stores_compare_df"
      ],
      "execution_count": null,
      "outputs": [
        {
          "output_type": "execute_result",
          "data": {
            "text/html": [
              "<div>\n",
              "<style scoped>\n",
              "    .dataframe tbody tr th:only-of-type {\n",
              "        vertical-align: middle;\n",
              "    }\n",
              "\n",
              "    .dataframe tbody tr th {\n",
              "        vertical-align: top;\n",
              "    }\n",
              "\n",
              "    .dataframe thead th {\n",
              "        text-align: right;\n",
              "    }\n",
              "</style>\n",
              "<table border=\"1\" class=\"dataframe\">\n",
              "  <thead>\n",
              "    <tr style=\"text-align: right;\">\n",
              "      <th></th>\n",
              "      <th>Store_id</th>\n",
              "      <th>Mean_with_snap</th>\n",
              "      <th>Mean_without_snap</th>\n",
              "      <th>Growth with snap(%)</th>\n",
              "    </tr>\n",
              "  </thead>\n",
              "  <tbody>\n",
              "    <tr>\n",
              "      <th>0</th>\n",
              "      <td>CA_1</td>\n",
              "      <td>1.404695</td>\n",
              "      <td>1.278157</td>\n",
              "      <td>9.900020</td>\n",
              "    </tr>\n",
              "    <tr>\n",
              "      <th>1</th>\n",
              "      <td>CA_2</td>\n",
              "      <td>0.989801</td>\n",
              "      <td>0.967363</td>\n",
              "      <td>2.319564</td>\n",
              "    </tr>\n",
              "    <tr>\n",
              "      <th>2</th>\n",
              "      <td>CA_3</td>\n",
              "      <td>2.053171</td>\n",
              "      <td>1.851879</td>\n",
              "      <td>10.869611</td>\n",
              "    </tr>\n",
              "    <tr>\n",
              "      <th>3</th>\n",
              "      <td>CA_4</td>\n",
              "      <td>0.725139</td>\n",
              "      <td>0.692963</td>\n",
              "      <td>4.643196</td>\n",
              "    </tr>\n",
              "    <tr>\n",
              "      <th>4</th>\n",
              "      <td>TX_1</td>\n",
              "      <td>1.037879</td>\n",
              "      <td>0.920702</td>\n",
              "      <td>12.726939</td>\n",
              "    </tr>\n",
              "    <tr>\n",
              "      <th>5</th>\n",
              "      <td>TX_2</td>\n",
              "      <td>1.319730</td>\n",
              "      <td>1.196195</td>\n",
              "      <td>10.327314</td>\n",
              "    </tr>\n",
              "    <tr>\n",
              "      <th>6</th>\n",
              "      <td>TX_3</td>\n",
              "      <td>1.123118</td>\n",
              "      <td>1.005138</td>\n",
              "      <td>11.737714</td>\n",
              "    </tr>\n",
              "    <tr>\n",
              "      <th>7</th>\n",
              "      <td>WI_1</td>\n",
              "      <td>0.911159</td>\n",
              "      <td>0.868855</td>\n",
              "      <td>4.868974</td>\n",
              "    </tr>\n",
              "    <tr>\n",
              "      <th>8</th>\n",
              "      <td>WI_2</td>\n",
              "      <td>1.344542</td>\n",
              "      <td>1.012642</td>\n",
              "      <td>32.775676</td>\n",
              "    </tr>\n",
              "    <tr>\n",
              "      <th>9</th>\n",
              "      <td>WI_3</td>\n",
              "      <td>1.274498</td>\n",
              "      <td>1.017324</td>\n",
              "      <td>25.279434</td>\n",
              "    </tr>\n",
              "  </tbody>\n",
              "</table>\n",
              "</div>"
            ],
            "text/plain": [
              "  Store_id  Mean_with_snap  Mean_without_snap  Growth with snap(%)\n",
              "0     CA_1        1.404695           1.278157             9.900020\n",
              "1     CA_2        0.989801           0.967363             2.319564\n",
              "2     CA_3        2.053171           1.851879            10.869611\n",
              "3     CA_4        0.725139           0.692963             4.643196\n",
              "4     TX_1        1.037879           0.920702            12.726939\n",
              "5     TX_2        1.319730           1.196195            10.327314\n",
              "6     TX_3        1.123118           1.005138            11.737714\n",
              "7     WI_1        0.911159           0.868855             4.868974\n",
              "8     WI_2        1.344542           1.012642            32.775676\n",
              "9     WI_3        1.274498           1.017324            25.279434"
            ]
          },
          "metadata": {
            "tags": []
          },
          "execution_count": 12
        }
      ]
    },
    {
      "cell_type": "markdown",
      "metadata": {
        "id": "rDv7atfn5ymt"
      },
      "source": [
        "From the above, it is known that most stores are affected by snap. The impact varies across stores, with some experiencing a more significant impact than others.\n",
        "\n"
      ]
    },
    {
      "cell_type": "markdown",
      "metadata": {
        "id": "3dB-hj7Y6BU_"
      },
      "source": [
        "#### **Conclusion**\n",
        "\n",
        "Regardless of the aspects, whether by state, product category, or store, we observe a correlation between the presence or absence of snap and sales volume. Therefore, snap appears to be valuable information. When making predictions, incorporating snap as a feature is recommended to enhance the accuracy of the model."
      ]
    }
  ]
}