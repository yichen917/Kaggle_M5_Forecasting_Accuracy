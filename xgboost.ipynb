{
  "cells": [
    {
      "cell_type": "markdown",
      "metadata": {
        "id": "view-in-github",
        "colab_type": "text"
      },
      "source": [
        "<a href=\"https://colab.research.google.com/github/yichen917/Kaggle_ML_Projects_M5_Forecasting_Accuracy/blob/main/xgboost.ipynb\" target=\"_parent\"><img src=\"https://colab.research.google.com/assets/colab-badge.svg\" alt=\"Open In Colab\"/></a>"
      ]
    },
    {
      "cell_type": "code",
      "execution_count": null,
      "metadata": {
        "id": "XXFi7YdYBvAU"
      },
      "outputs": [],
      "source": [
        "import numpy as np\n",
        "import pandas as pd\n",
        "x_train = pd.read_csv(r'C:\\Users\\fish19\\x_train_start')\n",
        "y_train = pd.read_csv(r'C:\\Users\\fish19\\y_train')"
      ]
    },
    {
      "cell_type": "code",
      "execution_count": null,
      "metadata": {
        "id": "8PtHp-9vBvAZ",
        "outputId": "e9bbcbaa-5a2d-4f5e-a82c-2cdc26ca1168"
      },
      "outputs": [
        {
          "data": {
            "text/html": [
              "<div>\n",
              "<style scoped>\n",
              "    .dataframe tbody tr th:only-of-type {\n",
              "        vertical-align: middle;\n",
              "    }\n",
              "\n",
              "    .dataframe tbody tr th {\n",
              "        vertical-align: top;\n",
              "    }\n",
              "\n",
              "    .dataframe thead th {\n",
              "        text-align: right;\n",
              "    }\n",
              "</style>\n",
              "<table border=\"1\" class=\"dataframe\">\n",
              "  <thead>\n",
              "    <tr style=\"text-align: right;\">\n",
              "      <th></th>\n",
              "      <th>Unnamed: 0</th>\n",
              "      <th>item_id</th>\n",
              "      <th>dept_id</th>\n",
              "      <th>cat_id</th>\n",
              "      <th>store_id</th>\n",
              "      <th>state_id</th>\n",
              "      <th>date</th>\n",
              "      <th>wm_yr_wk</th>\n",
              "      <th>weekday</th>\n",
              "      <th>month</th>\n",
              "      <th>year</th>\n",
              "      <th>snap</th>\n",
              "      <th>sell_price</th>\n",
              "    </tr>\n",
              "  </thead>\n",
              "  <tbody>\n",
              "    <tr>\n",
              "      <th>0</th>\n",
              "      <td>0</td>\n",
              "      <td>_001</td>\n",
              "      <td>HOBBIES_1</td>\n",
              "      <td>HOBBIES</td>\n",
              "      <td>CA_1</td>\n",
              "      <td>CA</td>\n",
              "      <td>2011-01-29</td>\n",
              "      <td>11101</td>\n",
              "      <td>Saturday</td>\n",
              "      <td>1</td>\n",
              "      <td>2011</td>\n",
              "      <td>0</td>\n",
              "      <td>9.58</td>\n",
              "    </tr>\n",
              "    <tr>\n",
              "      <th>1</th>\n",
              "      <td>1</td>\n",
              "      <td>_001</td>\n",
              "      <td>HOBBIES_1</td>\n",
              "      <td>HOBBIES</td>\n",
              "      <td>CA_1</td>\n",
              "      <td>CA</td>\n",
              "      <td>2011-01-30</td>\n",
              "      <td>11101</td>\n",
              "      <td>Sunday</td>\n",
              "      <td>1</td>\n",
              "      <td>2011</td>\n",
              "      <td>0</td>\n",
              "      <td>9.58</td>\n",
              "    </tr>\n",
              "    <tr>\n",
              "      <th>2</th>\n",
              "      <td>2</td>\n",
              "      <td>_001</td>\n",
              "      <td>HOBBIES_1</td>\n",
              "      <td>HOBBIES</td>\n",
              "      <td>CA_1</td>\n",
              "      <td>CA</td>\n",
              "      <td>2011-01-31</td>\n",
              "      <td>11101</td>\n",
              "      <td>Monday</td>\n",
              "      <td>1</td>\n",
              "      <td>2011</td>\n",
              "      <td>0</td>\n",
              "      <td>9.58</td>\n",
              "    </tr>\n",
              "    <tr>\n",
              "      <th>3</th>\n",
              "      <td>3</td>\n",
              "      <td>_001</td>\n",
              "      <td>HOBBIES_1</td>\n",
              "      <td>HOBBIES</td>\n",
              "      <td>CA_1</td>\n",
              "      <td>CA</td>\n",
              "      <td>2011-02-01</td>\n",
              "      <td>11101</td>\n",
              "      <td>Tuesday</td>\n",
              "      <td>2</td>\n",
              "      <td>2011</td>\n",
              "      <td>1</td>\n",
              "      <td>9.58</td>\n",
              "    </tr>\n",
              "    <tr>\n",
              "      <th>4</th>\n",
              "      <td>4</td>\n",
              "      <td>_001</td>\n",
              "      <td>HOBBIES_1</td>\n",
              "      <td>HOBBIES</td>\n",
              "      <td>CA_1</td>\n",
              "      <td>CA</td>\n",
              "      <td>2011-02-02</td>\n",
              "      <td>11101</td>\n",
              "      <td>Wednesday</td>\n",
              "      <td>2</td>\n",
              "      <td>2011</td>\n",
              "      <td>1</td>\n",
              "      <td>9.58</td>\n",
              "    </tr>\n",
              "  </tbody>\n",
              "</table>\n",
              "</div>"
            ],
            "text/plain": [
              "   Unnamed: 0 item_id    dept_id   cat_id store_id state_id        date  \\\n",
              "0           0    _001  HOBBIES_1  HOBBIES     CA_1       CA  2011-01-29   \n",
              "1           1    _001  HOBBIES_1  HOBBIES     CA_1       CA  2011-01-30   \n",
              "2           2    _001  HOBBIES_1  HOBBIES     CA_1       CA  2011-01-31   \n",
              "3           3    _001  HOBBIES_1  HOBBIES     CA_1       CA  2011-02-01   \n",
              "4           4    _001  HOBBIES_1  HOBBIES     CA_1       CA  2011-02-02   \n",
              "\n",
              "   wm_yr_wk    weekday  month  year  snap  sell_price  \n",
              "0     11101   Saturday      1  2011     0        9.58  \n",
              "1     11101     Sunday      1  2011     0        9.58  \n",
              "2     11101     Monday      1  2011     0        9.58  \n",
              "3     11101    Tuesday      2  2011     1        9.58  \n",
              "4     11101  Wednesday      2  2011     1        9.58  "
            ]
          },
          "execution_count": 2,
          "metadata": {},
          "output_type": "execute_result"
        }
      ],
      "source": [
        "x_train.head()"
      ]
    },
    {
      "cell_type": "code",
      "execution_count": null,
      "metadata": {
        "id": "L1F3nXLGBvAf",
        "outputId": "102077cd-34a5-4d63-d3d7-8320fe209487"
      },
      "outputs": [
        {
          "data": {
            "text/plain": [
              "(58327370, 13)"
            ]
          },
          "execution_count": 3,
          "metadata": {},
          "output_type": "execute_result"
        }
      ],
      "source": [
        "x_train.shape"
      ]
    },
    {
      "cell_type": "code",
      "execution_count": null,
      "metadata": {
        "id": "7gAKuCS0BvAh",
        "outputId": "ddae33bb-5f3f-4f42-9056-d7457cbd7f85"
      },
      "outputs": [
        {
          "data": {
            "text/plain": [
              "Index(['Unnamed: 0', 'item_id', 'dept_id', 'cat_id', 'store_id', 'state_id',\n",
              "       'date', 'wm_yr_wk', 'weekday', 'month', 'year', 'snap', 'sell_price'],\n",
              "      dtype='object')"
            ]
          },
          "execution_count": 4,
          "metadata": {},
          "output_type": "execute_result"
        }
      ],
      "source": [
        "x_train.columns"
      ]
    },
    {
      "cell_type": "markdown",
      "metadata": {
        "id": "M_DOMx6EBvAk"
      },
      "source": [
        "Remove redundant columns"
      ]
    },
    {
      "cell_type": "code",
      "execution_count": null,
      "metadata": {
        "id": "ugAHMx_CBvAp"
      },
      "outputs": [],
      "source": [
        "x_train = x_train.drop(['Unnamed: 0','item_id','date','wm_yr_wk'], axis = 1)"
      ]
    },
    {
      "cell_type": "code",
      "execution_count": null,
      "metadata": {
        "id": "ICdxQfKHBvAt",
        "outputId": "76522dbc-16c9-42e9-dd3c-c9e1d62a2733"
      },
      "outputs": [
        {
          "data": {
            "text/plain": [
              "(58327370, 9)"
            ]
          },
          "execution_count": 6,
          "metadata": {},
          "output_type": "execute_result"
        }
      ],
      "source": [
        "x_train.shape"
      ]
    },
    {
      "cell_type": "markdown",
      "metadata": {
        "id": "qBcqfDC7BvAv"
      },
      "source": [
        "Convert the values of month and year from number to string"
      ]
    },
    {
      "cell_type": "code",
      "execution_count": null,
      "metadata": {
        "id": "NqNtN45jBvAx"
      },
      "outputs": [],
      "source": [
        "x_train['month'] = x_train['month'].apply(str)\n",
        "x_train['year'] = x_train['year'].apply(str)"
      ]
    },
    {
      "cell_type": "code",
      "execution_count": null,
      "metadata": {
        "id": "V8pJNTCfBvAy"
      },
      "outputs": [],
      "source": [
        "# one hot encoding\n",
        "x_train = pd.get_dummies(x_train)"
      ]
    },
    {
      "cell_type": "code",
      "execution_count": null,
      "metadata": {
        "id": "TKjACTHQBvA0"
      },
      "outputs": [],
      "source": [
        "#standardization\n",
        "x_train['sell_price'] = (x_train['sell_price'] - np.mean(x_train['sell_price'])) / np.std(x_train['sell_price'])"
      ]
    },
    {
      "cell_type": "code",
      "execution_count": null,
      "metadata": {
        "id": "Kh8Fsek2BvA1",
        "outputId": "b2b1ed74-6be3-4a7a-eefa-b122d181634c"
      },
      "outputs": [
        {
          "data": {
            "text/plain": [
              "Index(['snap', 'sell_price', 'dept_id_FOODS_1', 'dept_id_FOODS_2',\n",
              "       'dept_id_FOODS_3', 'dept_id_HOBBIES_1', 'dept_id_HOBBIES_2',\n",
              "       'dept_id_HOUSEHOLD_1', 'dept_id_HOUSEHOLD_2', 'cat_id_FOODS',\n",
              "       'cat_id_HOBBIES', 'cat_id_HOUSEHOLD', 'store_id_CA_1', 'store_id_CA_2',\n",
              "       'store_id_CA_3', 'store_id_CA_4', 'store_id_TX_1', 'store_id_TX_2',\n",
              "       'store_id_TX_3', 'store_id_WI_1', 'store_id_WI_2', 'store_id_WI_3',\n",
              "       'state_id_CA', 'state_id_TX', 'state_id_WI', 'weekday_Friday',\n",
              "       'weekday_Monday', 'weekday_Saturday', 'weekday_Sunday',\n",
              "       'weekday_Thursday', 'weekday_Tuesday', 'weekday_Wednesday', 'month_1',\n",
              "       'month_10', 'month_11', 'month_12', 'month_2', 'month_3', 'month_4',\n",
              "       'month_5', 'month_6', 'month_7', 'month_8', 'month_9', 'year_2011',\n",
              "       'year_2012', 'year_2013', 'year_2014', 'year_2015', 'year_2016'],\n",
              "      dtype='object')"
            ]
          },
          "execution_count": 10,
          "metadata": {},
          "output_type": "execute_result"
        }
      ],
      "source": [
        "x_train.columns"
      ]
    },
    {
      "cell_type": "markdown",
      "metadata": {
        "id": "VnRzqgJcBvA2"
      },
      "source": [
        "Condcut the sames pre-processing on the test dataset as the train dataset"
      ]
    },
    {
      "cell_type": "code",
      "execution_count": null,
      "metadata": {
        "id": "98TWExaeBvA3"
      },
      "outputs": [],
      "source": [
        "x_test = pd.read_csv(r'C:\\Users\\fish19\\x_test_start')\n",
        "y_test = pd.read_csv(r'C:\\Users\\fish19\\y_test')"
      ]
    },
    {
      "cell_type": "code",
      "execution_count": null,
      "metadata": {
        "id": "TWiKVmTmBvA3",
        "outputId": "1756bd44-9018-4589-8ef9-e331100d6ce3"
      },
      "outputs": [
        {
          "data": {
            "text/html": [
              "<div>\n",
              "<style scoped>\n",
              "    .dataframe tbody tr th:only-of-type {\n",
              "        vertical-align: middle;\n",
              "    }\n",
              "\n",
              "    .dataframe tbody tr th {\n",
              "        vertical-align: top;\n",
              "    }\n",
              "\n",
              "    .dataframe thead th {\n",
              "        text-align: right;\n",
              "    }\n",
              "</style>\n",
              "<table border=\"1\" class=\"dataframe\">\n",
              "  <thead>\n",
              "    <tr style=\"text-align: right;\">\n",
              "      <th></th>\n",
              "      <th>Unnamed: 0</th>\n",
              "      <th>id</th>\n",
              "      <th>item_id</th>\n",
              "      <th>dept_id</th>\n",
              "      <th>cat_id</th>\n",
              "      <th>store_id</th>\n",
              "      <th>state_id</th>\n",
              "      <th>d</th>\n",
              "      <th>num_sold</th>\n",
              "      <th>date</th>\n",
              "      <th>wm_yr_wk</th>\n",
              "      <th>weekday</th>\n",
              "      <th>month</th>\n",
              "      <th>year</th>\n",
              "      <th>snap</th>\n",
              "      <th>sell_price</th>\n",
              "    </tr>\n",
              "  </thead>\n",
              "  <tbody>\n",
              "    <tr>\n",
              "      <th>0</th>\n",
              "      <td>0</td>\n",
              "      <td>HOBBIES_1_001_CA_1_evaluation</td>\n",
              "      <td>HOBBIES_1_001</td>\n",
              "      <td>HOBBIES_1</td>\n",
              "      <td>HOBBIES</td>\n",
              "      <td>CA_1</td>\n",
              "      <td>CA</td>\n",
              "      <td>d_1914</td>\n",
              "      <td>0</td>\n",
              "      <td>2016-05-23</td>\n",
              "      <td>11617</td>\n",
              "      <td>Monday</td>\n",
              "      <td>5</td>\n",
              "      <td>2016</td>\n",
              "      <td>0</td>\n",
              "      <td>8.38</td>\n",
              "    </tr>\n",
              "    <tr>\n",
              "      <th>1</th>\n",
              "      <td>1</td>\n",
              "      <td>HOBBIES_1_001_CA_1_evaluation</td>\n",
              "      <td>HOBBIES_1_001</td>\n",
              "      <td>HOBBIES_1</td>\n",
              "      <td>HOBBIES</td>\n",
              "      <td>CA_1</td>\n",
              "      <td>CA</td>\n",
              "      <td>d_1915</td>\n",
              "      <td>0</td>\n",
              "      <td>2016-05-24</td>\n",
              "      <td>11617</td>\n",
              "      <td>Tuesday</td>\n",
              "      <td>5</td>\n",
              "      <td>2016</td>\n",
              "      <td>0</td>\n",
              "      <td>8.38</td>\n",
              "    </tr>\n",
              "    <tr>\n",
              "      <th>2</th>\n",
              "      <td>2</td>\n",
              "      <td>HOBBIES_1_001_CA_1_evaluation</td>\n",
              "      <td>HOBBIES_1_001</td>\n",
              "      <td>HOBBIES_1</td>\n",
              "      <td>HOBBIES</td>\n",
              "      <td>CA_1</td>\n",
              "      <td>CA</td>\n",
              "      <td>d_1916</td>\n",
              "      <td>0</td>\n",
              "      <td>2016-05-25</td>\n",
              "      <td>11617</td>\n",
              "      <td>Wednesday</td>\n",
              "      <td>5</td>\n",
              "      <td>2016</td>\n",
              "      <td>0</td>\n",
              "      <td>8.38</td>\n",
              "    </tr>\n",
              "    <tr>\n",
              "      <th>3</th>\n",
              "      <td>3</td>\n",
              "      <td>HOBBIES_1_001_CA_1_evaluation</td>\n",
              "      <td>HOBBIES_1_001</td>\n",
              "      <td>HOBBIES_1</td>\n",
              "      <td>HOBBIES</td>\n",
              "      <td>CA_1</td>\n",
              "      <td>CA</td>\n",
              "      <td>d_1917</td>\n",
              "      <td>2</td>\n",
              "      <td>2016-05-26</td>\n",
              "      <td>11617</td>\n",
              "      <td>Thursday</td>\n",
              "      <td>5</td>\n",
              "      <td>2016</td>\n",
              "      <td>0</td>\n",
              "      <td>8.38</td>\n",
              "    </tr>\n",
              "    <tr>\n",
              "      <th>4</th>\n",
              "      <td>4</td>\n",
              "      <td>HOBBIES_1_001_CA_1_evaluation</td>\n",
              "      <td>HOBBIES_1_001</td>\n",
              "      <td>HOBBIES_1</td>\n",
              "      <td>HOBBIES</td>\n",
              "      <td>CA_1</td>\n",
              "      <td>CA</td>\n",
              "      <td>d_1918</td>\n",
              "      <td>0</td>\n",
              "      <td>2016-05-27</td>\n",
              "      <td>11617</td>\n",
              "      <td>Friday</td>\n",
              "      <td>5</td>\n",
              "      <td>2016</td>\n",
              "      <td>0</td>\n",
              "      <td>8.38</td>\n",
              "    </tr>\n",
              "  </tbody>\n",
              "</table>\n",
              "</div>"
            ],
            "text/plain": [
              "   Unnamed: 0                             id        item_id    dept_id  \\\n",
              "0           0  HOBBIES_1_001_CA_1_evaluation  HOBBIES_1_001  HOBBIES_1   \n",
              "1           1  HOBBIES_1_001_CA_1_evaluation  HOBBIES_1_001  HOBBIES_1   \n",
              "2           2  HOBBIES_1_001_CA_1_evaluation  HOBBIES_1_001  HOBBIES_1   \n",
              "3           3  HOBBIES_1_001_CA_1_evaluation  HOBBIES_1_001  HOBBIES_1   \n",
              "4           4  HOBBIES_1_001_CA_1_evaluation  HOBBIES_1_001  HOBBIES_1   \n",
              "\n",
              "    cat_id store_id state_id       d  num_sold        date  wm_yr_wk  \\\n",
              "0  HOBBIES     CA_1       CA  d_1914         0  2016-05-23     11617   \n",
              "1  HOBBIES     CA_1       CA  d_1915         0  2016-05-24     11617   \n",
              "2  HOBBIES     CA_1       CA  d_1916         0  2016-05-25     11617   \n",
              "3  HOBBIES     CA_1       CA  d_1917         2  2016-05-26     11617   \n",
              "4  HOBBIES     CA_1       CA  d_1918         0  2016-05-27     11617   \n",
              "\n",
              "     weekday  month  year  snap  sell_price  \n",
              "0     Monday      5  2016     0        8.38  \n",
              "1    Tuesday      5  2016     0        8.38  \n",
              "2  Wednesday      5  2016     0        8.38  \n",
              "3   Thursday      5  2016     0        8.38  \n",
              "4     Friday      5  2016     0        8.38  "
            ]
          },
          "execution_count": 12,
          "metadata": {},
          "output_type": "execute_result"
        }
      ],
      "source": [
        "x_test.head()"
      ]
    },
    {
      "cell_type": "code",
      "execution_count": null,
      "metadata": {
        "id": "5qggy3yKBvA4",
        "outputId": "69e9b870-2e2b-4858-b85d-b4be354b9453"
      },
      "outputs": [
        {
          "data": {
            "text/plain": [
              "Index(['Unnamed: 0', 'id', 'item_id', 'dept_id', 'cat_id', 'store_id',\n",
              "       'state_id', 'd', 'num_sold', 'date', 'wm_yr_wk', 'weekday', 'month',\n",
              "       'year', 'snap', 'sell_price'],\n",
              "      dtype='object')"
            ]
          },
          "execution_count": 13,
          "metadata": {},
          "output_type": "execute_result"
        }
      ],
      "source": [
        "x_test.columns"
      ]
    },
    {
      "cell_type": "code",
      "execution_count": null,
      "metadata": {
        "id": "h9aHyvVfBvA5"
      },
      "outputs": [],
      "source": [
        "#drop columns\n",
        "x_test = x_test.drop(['Unnamed: 0', 'id', 'item_id', 'd', 'num_sold', 'date','wm_yr_wk'], axis = 1)"
      ]
    },
    {
      "cell_type": "code",
      "execution_count": null,
      "metadata": {
        "id": "0O6X8FOfBvA5"
      },
      "outputs": [],
      "source": [
        "#transform year and month to string\n",
        "x_test['month'] = x_test['month'].apply(str)\n",
        "x_test['year'] = x_test['year'].apply(str)"
      ]
    },
    {
      "cell_type": "code",
      "execution_count": null,
      "metadata": {
        "id": "3qM9B26FBvA6"
      },
      "outputs": [],
      "source": [
        "#one hot encoding\n",
        "x_test = pd.get_dummies(x_test)"
      ]
    },
    {
      "cell_type": "code",
      "execution_count": null,
      "metadata": {
        "id": "j5sVAUSjBvA6"
      },
      "outputs": [],
      "source": [
        "#standardization\n",
        "x_test['sell_price'] = (x_test['sell_price'] - np.mean(x_test['sell_price'])) / np.std(x_test['sell_price'])"
      ]
    },
    {
      "cell_type": "code",
      "execution_count": null,
      "metadata": {
        "id": "gNsjM-TwBvA8",
        "outputId": "f241294f-c9d5-4242-8c69-287b2968ce8e"
      },
      "outputs": [
        {
          "data": {
            "text/plain": [
              "(853720, 35)"
            ]
          },
          "execution_count": 18,
          "metadata": {},
          "output_type": "execute_result"
        }
      ],
      "source": [
        "x_test.shape"
      ]
    },
    {
      "cell_type": "code",
      "execution_count": null,
      "metadata": {
        "id": "mnJgfVqhBvA9",
        "outputId": "05453b00-5f9d-427c-80b6-23bdb0cf3b11"
      },
      "outputs": [
        {
          "data": {
            "text/plain": [
              "Index(['snap', 'sell_price', 'dept_id_FOODS_1', 'dept_id_FOODS_2',\n",
              "       'dept_id_FOODS_3', 'dept_id_HOBBIES_1', 'dept_id_HOBBIES_2',\n",
              "       'dept_id_HOUSEHOLD_1', 'dept_id_HOUSEHOLD_2', 'cat_id_FOODS',\n",
              "       'cat_id_HOBBIES', 'cat_id_HOUSEHOLD', 'store_id_CA_1', 'store_id_CA_2',\n",
              "       'store_id_CA_3', 'store_id_CA_4', 'store_id_TX_1', 'store_id_TX_2',\n",
              "       'store_id_TX_3', 'store_id_WI_1', 'store_id_WI_2', 'store_id_WI_3',\n",
              "       'state_id_CA', 'state_id_TX', 'state_id_WI', 'weekday_Friday',\n",
              "       'weekday_Monday', 'weekday_Saturday', 'weekday_Sunday',\n",
              "       'weekday_Thursday', 'weekday_Tuesday', 'weekday_Wednesday', 'month_5',\n",
              "       'month_6', 'year_2016'],\n",
              "      dtype='object')"
            ]
          },
          "execution_count": 19,
          "metadata": {},
          "output_type": "execute_result"
        }
      ],
      "source": [
        "x_test.columns"
      ]
    },
    {
      "cell_type": "markdown",
      "metadata": {
        "id": "NY-YBiLFBvA-"
      },
      "source": [
        "Due to the fewer columns in the test dataset compared to the train dataset, we need to fill in the missing columns accordingly."
      ]
    },
    {
      "cell_type": "code",
      "execution_count": null,
      "metadata": {
        "id": "TwjHDW9TBvA-"
      },
      "outputs": [],
      "source": [
        "#store column of month 5 and month 6\n",
        "x_test_rest = x_test[['month_5', 'month_6']]"
      ]
    },
    {
      "cell_type": "code",
      "execution_count": null,
      "metadata": {
        "id": "uOzkxo6KBvA_"
      },
      "outputs": [],
      "source": [
        "#store column of 2016\n",
        "x_test_last = x_test[['year_2016']]"
      ]
    },
    {
      "cell_type": "code",
      "execution_count": null,
      "metadata": {
        "id": "opOLGUsiBvA_"
      },
      "outputs": [],
      "source": [
        "#drop columns\n",
        "x_test = x_test.drop(['month_5','month_6', 'year_2016'], axis = 1)"
      ]
    },
    {
      "cell_type": "code",
      "execution_count": null,
      "metadata": {
        "id": "VfRG3fUZBvBA"
      },
      "outputs": [],
      "source": [
        "# add columns\n",
        "x_test['month_1'] = 0\n",
        "x_test['month_2'] = 0\n",
        "x_test['month_3'] = 0\n",
        "x_test['month_4'] = 0"
      ]
    },
    {
      "cell_type": "code",
      "execution_count": null,
      "metadata": {
        "id": "FuxaDi5dBvBB"
      },
      "outputs": [],
      "source": [
        "x_test = pd.concat([x_test,x_test_rest], axis = 1)"
      ]
    },
    {
      "cell_type": "code",
      "execution_count": null,
      "metadata": {
        "id": "ZHf0sXh6BvBC"
      },
      "outputs": [],
      "source": [
        "x_test['month_7'] = 0\n",
        "x_test['month_8'] = 0\n",
        "x_test['month_9'] = 0\n",
        "x_test['month_10'] = 0\n",
        "x_test['month_11'] = 0\n",
        "x_test['month_12'] = 0\n",
        "x_test['year_2011'] = 0\n",
        "x_test['year_2012'] = 0\n",
        "x_test['year_2013'] = 0\n",
        "x_test['year_2014'] = 0\n",
        "x_test['year_2015'] = 0\n",
        "x_test = pd.concat([x_test,x_test_last], axis = 1)"
      ]
    },
    {
      "cell_type": "code",
      "execution_count": null,
      "metadata": {
        "id": "BozoEK3yBvBC",
        "outputId": "5178b3d1-d7e9-448c-f728-b3ef75e5320b"
      },
      "outputs": [
        {
          "data": {
            "text/html": [
              "<div>\n",
              "<style scoped>\n",
              "    .dataframe tbody tr th:only-of-type {\n",
              "        vertical-align: middle;\n",
              "    }\n",
              "\n",
              "    .dataframe tbody tr th {\n",
              "        vertical-align: top;\n",
              "    }\n",
              "\n",
              "    .dataframe thead th {\n",
              "        text-align: right;\n",
              "    }\n",
              "</style>\n",
              "<table border=\"1\" class=\"dataframe\">\n",
              "  <thead>\n",
              "    <tr style=\"text-align: right;\">\n",
              "      <th></th>\n",
              "      <th>snap</th>\n",
              "      <th>sell_price</th>\n",
              "      <th>dept_id_FOODS_1</th>\n",
              "      <th>dept_id_FOODS_2</th>\n",
              "      <th>dept_id_FOODS_3</th>\n",
              "      <th>dept_id_HOBBIES_1</th>\n",
              "      <th>dept_id_HOBBIES_2</th>\n",
              "      <th>dept_id_HOUSEHOLD_1</th>\n",
              "      <th>dept_id_HOUSEHOLD_2</th>\n",
              "      <th>cat_id_FOODS</th>\n",
              "      <th>...</th>\n",
              "      <th>month_9</th>\n",
              "      <th>month_10</th>\n",
              "      <th>month_11</th>\n",
              "      <th>month_12</th>\n",
              "      <th>year_2011</th>\n",
              "      <th>year_2012</th>\n",
              "      <th>year_2013</th>\n",
              "      <th>year_2014</th>\n",
              "      <th>year_2015</th>\n",
              "      <th>year_2016</th>\n",
              "    </tr>\n",
              "  </thead>\n",
              "  <tbody>\n",
              "    <tr>\n",
              "      <th>0</th>\n",
              "      <td>0</td>\n",
              "      <td>1.103713</td>\n",
              "      <td>0</td>\n",
              "      <td>0</td>\n",
              "      <td>0</td>\n",
              "      <td>1</td>\n",
              "      <td>0</td>\n",
              "      <td>0</td>\n",
              "      <td>0</td>\n",
              "      <td>0</td>\n",
              "      <td>...</td>\n",
              "      <td>0</td>\n",
              "      <td>0</td>\n",
              "      <td>0</td>\n",
              "      <td>0</td>\n",
              "      <td>0</td>\n",
              "      <td>0</td>\n",
              "      <td>0</td>\n",
              "      <td>0</td>\n",
              "      <td>0</td>\n",
              "      <td>1</td>\n",
              "    </tr>\n",
              "    <tr>\n",
              "      <th>1</th>\n",
              "      <td>0</td>\n",
              "      <td>1.103713</td>\n",
              "      <td>0</td>\n",
              "      <td>0</td>\n",
              "      <td>0</td>\n",
              "      <td>1</td>\n",
              "      <td>0</td>\n",
              "      <td>0</td>\n",
              "      <td>0</td>\n",
              "      <td>0</td>\n",
              "      <td>...</td>\n",
              "      <td>0</td>\n",
              "      <td>0</td>\n",
              "      <td>0</td>\n",
              "      <td>0</td>\n",
              "      <td>0</td>\n",
              "      <td>0</td>\n",
              "      <td>0</td>\n",
              "      <td>0</td>\n",
              "      <td>0</td>\n",
              "      <td>1</td>\n",
              "    </tr>\n",
              "    <tr>\n",
              "      <th>2</th>\n",
              "      <td>0</td>\n",
              "      <td>1.103713</td>\n",
              "      <td>0</td>\n",
              "      <td>0</td>\n",
              "      <td>0</td>\n",
              "      <td>1</td>\n",
              "      <td>0</td>\n",
              "      <td>0</td>\n",
              "      <td>0</td>\n",
              "      <td>0</td>\n",
              "      <td>...</td>\n",
              "      <td>0</td>\n",
              "      <td>0</td>\n",
              "      <td>0</td>\n",
              "      <td>0</td>\n",
              "      <td>0</td>\n",
              "      <td>0</td>\n",
              "      <td>0</td>\n",
              "      <td>0</td>\n",
              "      <td>0</td>\n",
              "      <td>1</td>\n",
              "    </tr>\n",
              "    <tr>\n",
              "      <th>3</th>\n",
              "      <td>0</td>\n",
              "      <td>1.103713</td>\n",
              "      <td>0</td>\n",
              "      <td>0</td>\n",
              "      <td>0</td>\n",
              "      <td>1</td>\n",
              "      <td>0</td>\n",
              "      <td>0</td>\n",
              "      <td>0</td>\n",
              "      <td>0</td>\n",
              "      <td>...</td>\n",
              "      <td>0</td>\n",
              "      <td>0</td>\n",
              "      <td>0</td>\n",
              "      <td>0</td>\n",
              "      <td>0</td>\n",
              "      <td>0</td>\n",
              "      <td>0</td>\n",
              "      <td>0</td>\n",
              "      <td>0</td>\n",
              "      <td>1</td>\n",
              "    </tr>\n",
              "    <tr>\n",
              "      <th>4</th>\n",
              "      <td>0</td>\n",
              "      <td>1.103713</td>\n",
              "      <td>0</td>\n",
              "      <td>0</td>\n",
              "      <td>0</td>\n",
              "      <td>1</td>\n",
              "      <td>0</td>\n",
              "      <td>0</td>\n",
              "      <td>0</td>\n",
              "      <td>0</td>\n",
              "      <td>...</td>\n",
              "      <td>0</td>\n",
              "      <td>0</td>\n",
              "      <td>0</td>\n",
              "      <td>0</td>\n",
              "      <td>0</td>\n",
              "      <td>0</td>\n",
              "      <td>0</td>\n",
              "      <td>0</td>\n",
              "      <td>0</td>\n",
              "      <td>1</td>\n",
              "    </tr>\n",
              "  </tbody>\n",
              "</table>\n",
              "<p>5 rows × 50 columns</p>\n",
              "</div>"
            ],
            "text/plain": [
              "   snap  sell_price  dept_id_FOODS_1  dept_id_FOODS_2  dept_id_FOODS_3  \\\n",
              "0     0    1.103713                0                0                0   \n",
              "1     0    1.103713                0                0                0   \n",
              "2     0    1.103713                0                0                0   \n",
              "3     0    1.103713                0                0                0   \n",
              "4     0    1.103713                0                0                0   \n",
              "\n",
              "   dept_id_HOBBIES_1  dept_id_HOBBIES_2  dept_id_HOUSEHOLD_1  \\\n",
              "0                  1                  0                    0   \n",
              "1                  1                  0                    0   \n",
              "2                  1                  0                    0   \n",
              "3                  1                  0                    0   \n",
              "4                  1                  0                    0   \n",
              "\n",
              "   dept_id_HOUSEHOLD_2  cat_id_FOODS  ...  month_9  month_10  month_11  \\\n",
              "0                    0             0  ...        0         0         0   \n",
              "1                    0             0  ...        0         0         0   \n",
              "2                    0             0  ...        0         0         0   \n",
              "3                    0             0  ...        0         0         0   \n",
              "4                    0             0  ...        0         0         0   \n",
              "\n",
              "   month_12  year_2011  year_2012  year_2013  year_2014  year_2015  year_2016  \n",
              "0         0          0          0          0          0          0          1  \n",
              "1         0          0          0          0          0          0          1  \n",
              "2         0          0          0          0          0          0          1  \n",
              "3         0          0          0          0          0          0          1  \n",
              "4         0          0          0          0          0          0          1  \n",
              "\n",
              "[5 rows x 50 columns]"
            ]
          },
          "execution_count": 26,
          "metadata": {},
          "output_type": "execute_result"
        }
      ],
      "source": [
        "x_test.head()"
      ]
    },
    {
      "cell_type": "code",
      "execution_count": null,
      "metadata": {
        "id": "z948LPWJBvBD",
        "outputId": "418a3f23-1f8a-4b95-869a-7b1a3b954d98"
      },
      "outputs": [
        {
          "data": {
            "text/html": [
              "<div>\n",
              "<style scoped>\n",
              "    .dataframe tbody tr th:only-of-type {\n",
              "        vertical-align: middle;\n",
              "    }\n",
              "\n",
              "    .dataframe tbody tr th {\n",
              "        vertical-align: top;\n",
              "    }\n",
              "\n",
              "    .dataframe thead th {\n",
              "        text-align: right;\n",
              "    }\n",
              "</style>\n",
              "<table border=\"1\" class=\"dataframe\">\n",
              "  <thead>\n",
              "    <tr style=\"text-align: right;\">\n",
              "      <th></th>\n",
              "      <th>snap</th>\n",
              "      <th>sell_price</th>\n",
              "      <th>dept_id_FOODS_1</th>\n",
              "      <th>dept_id_FOODS_2</th>\n",
              "      <th>dept_id_FOODS_3</th>\n",
              "      <th>dept_id_HOBBIES_1</th>\n",
              "      <th>dept_id_HOBBIES_2</th>\n",
              "      <th>dept_id_HOUSEHOLD_1</th>\n",
              "      <th>dept_id_HOUSEHOLD_2</th>\n",
              "      <th>cat_id_FOODS</th>\n",
              "      <th>...</th>\n",
              "      <th>month_6</th>\n",
              "      <th>month_7</th>\n",
              "      <th>month_8</th>\n",
              "      <th>month_9</th>\n",
              "      <th>year_2011</th>\n",
              "      <th>year_2012</th>\n",
              "      <th>year_2013</th>\n",
              "      <th>year_2014</th>\n",
              "      <th>year_2015</th>\n",
              "      <th>year_2016</th>\n",
              "    </tr>\n",
              "  </thead>\n",
              "  <tbody>\n",
              "    <tr>\n",
              "      <th>0</th>\n",
              "      <td>0</td>\n",
              "      <td>1.456259</td>\n",
              "      <td>0</td>\n",
              "      <td>0</td>\n",
              "      <td>0</td>\n",
              "      <td>1</td>\n",
              "      <td>0</td>\n",
              "      <td>0</td>\n",
              "      <td>0</td>\n",
              "      <td>0</td>\n",
              "      <td>...</td>\n",
              "      <td>0</td>\n",
              "      <td>0</td>\n",
              "      <td>0</td>\n",
              "      <td>0</td>\n",
              "      <td>1</td>\n",
              "      <td>0</td>\n",
              "      <td>0</td>\n",
              "      <td>0</td>\n",
              "      <td>0</td>\n",
              "      <td>0</td>\n",
              "    </tr>\n",
              "    <tr>\n",
              "      <th>1</th>\n",
              "      <td>0</td>\n",
              "      <td>1.456259</td>\n",
              "      <td>0</td>\n",
              "      <td>0</td>\n",
              "      <td>0</td>\n",
              "      <td>1</td>\n",
              "      <td>0</td>\n",
              "      <td>0</td>\n",
              "      <td>0</td>\n",
              "      <td>0</td>\n",
              "      <td>...</td>\n",
              "      <td>0</td>\n",
              "      <td>0</td>\n",
              "      <td>0</td>\n",
              "      <td>0</td>\n",
              "      <td>1</td>\n",
              "      <td>0</td>\n",
              "      <td>0</td>\n",
              "      <td>0</td>\n",
              "      <td>0</td>\n",
              "      <td>0</td>\n",
              "    </tr>\n",
              "    <tr>\n",
              "      <th>2</th>\n",
              "      <td>0</td>\n",
              "      <td>1.456259</td>\n",
              "      <td>0</td>\n",
              "      <td>0</td>\n",
              "      <td>0</td>\n",
              "      <td>1</td>\n",
              "      <td>0</td>\n",
              "      <td>0</td>\n",
              "      <td>0</td>\n",
              "      <td>0</td>\n",
              "      <td>...</td>\n",
              "      <td>0</td>\n",
              "      <td>0</td>\n",
              "      <td>0</td>\n",
              "      <td>0</td>\n",
              "      <td>1</td>\n",
              "      <td>0</td>\n",
              "      <td>0</td>\n",
              "      <td>0</td>\n",
              "      <td>0</td>\n",
              "      <td>0</td>\n",
              "    </tr>\n",
              "    <tr>\n",
              "      <th>3</th>\n",
              "      <td>1</td>\n",
              "      <td>1.456259</td>\n",
              "      <td>0</td>\n",
              "      <td>0</td>\n",
              "      <td>0</td>\n",
              "      <td>1</td>\n",
              "      <td>0</td>\n",
              "      <td>0</td>\n",
              "      <td>0</td>\n",
              "      <td>0</td>\n",
              "      <td>...</td>\n",
              "      <td>0</td>\n",
              "      <td>0</td>\n",
              "      <td>0</td>\n",
              "      <td>0</td>\n",
              "      <td>1</td>\n",
              "      <td>0</td>\n",
              "      <td>0</td>\n",
              "      <td>0</td>\n",
              "      <td>0</td>\n",
              "      <td>0</td>\n",
              "    </tr>\n",
              "    <tr>\n",
              "      <th>4</th>\n",
              "      <td>1</td>\n",
              "      <td>1.456259</td>\n",
              "      <td>0</td>\n",
              "      <td>0</td>\n",
              "      <td>0</td>\n",
              "      <td>1</td>\n",
              "      <td>0</td>\n",
              "      <td>0</td>\n",
              "      <td>0</td>\n",
              "      <td>0</td>\n",
              "      <td>...</td>\n",
              "      <td>0</td>\n",
              "      <td>0</td>\n",
              "      <td>0</td>\n",
              "      <td>0</td>\n",
              "      <td>1</td>\n",
              "      <td>0</td>\n",
              "      <td>0</td>\n",
              "      <td>0</td>\n",
              "      <td>0</td>\n",
              "      <td>0</td>\n",
              "    </tr>\n",
              "  </tbody>\n",
              "</table>\n",
              "<p>5 rows × 50 columns</p>\n",
              "</div>"
            ],
            "text/plain": [
              "   snap  sell_price  dept_id_FOODS_1  dept_id_FOODS_2  dept_id_FOODS_3  \\\n",
              "0     0    1.456259                0                0                0   \n",
              "1     0    1.456259                0                0                0   \n",
              "2     0    1.456259                0                0                0   \n",
              "3     1    1.456259                0                0                0   \n",
              "4     1    1.456259                0                0                0   \n",
              "\n",
              "   dept_id_HOBBIES_1  dept_id_HOBBIES_2  dept_id_HOUSEHOLD_1  \\\n",
              "0                  1                  0                    0   \n",
              "1                  1                  0                    0   \n",
              "2                  1                  0                    0   \n",
              "3                  1                  0                    0   \n",
              "4                  1                  0                    0   \n",
              "\n",
              "   dept_id_HOUSEHOLD_2  cat_id_FOODS  ...  month_6  month_7  month_8  month_9  \\\n",
              "0                    0             0  ...        0        0        0        0   \n",
              "1                    0             0  ...        0        0        0        0   \n",
              "2                    0             0  ...        0        0        0        0   \n",
              "3                    0             0  ...        0        0        0        0   \n",
              "4                    0             0  ...        0        0        0        0   \n",
              "\n",
              "   year_2011  year_2012  year_2013  year_2014  year_2015  year_2016  \n",
              "0          1          0          0          0          0          0  \n",
              "1          1          0          0          0          0          0  \n",
              "2          1          0          0          0          0          0  \n",
              "3          1          0          0          0          0          0  \n",
              "4          1          0          0          0          0          0  \n",
              "\n",
              "[5 rows x 50 columns]"
            ]
          },
          "execution_count": 27,
          "metadata": {},
          "output_type": "execute_result"
        }
      ],
      "source": [
        "x_train.head()"
      ]
    },
    {
      "cell_type": "markdown",
      "metadata": {
        "id": "lfZArxjJBvBE"
      },
      "source": [
        "Address redundant labeling columns of y"
      ]
    },
    {
      "cell_type": "code",
      "execution_count": null,
      "metadata": {
        "id": "8GQ3puswBvBF"
      },
      "outputs": [],
      "source": [
        "y_train = y_train.drop('Unnamed: 0', axis = 1 )"
      ]
    },
    {
      "cell_type": "code",
      "execution_count": null,
      "metadata": {
        "id": "0k86o4W-BvBG"
      },
      "outputs": [],
      "source": [
        "y_test = y_test.drop('Unnamed: 0', axis = 1 )"
      ]
    },
    {
      "cell_type": "code",
      "execution_count": null,
      "metadata": {
        "id": "wVW8kkWVBvBG",
        "outputId": "1dffe495-469d-4ba4-b451-818c1730b14b"
      },
      "outputs": [
        {
          "data": {
            "text/plain": [
              "(58327370, 50)"
            ]
          },
          "execution_count": 30,
          "metadata": {},
          "output_type": "execute_result"
        }
      ],
      "source": [
        "x_train.shape"
      ]
    },
    {
      "cell_type": "code",
      "execution_count": null,
      "metadata": {
        "id": "ZonmJC6SBvBH",
        "outputId": "8033fe1b-52b0-4ac1-f49e-30d678d596db"
      },
      "outputs": [
        {
          "data": {
            "text/plain": [
              "(58327370, 1)"
            ]
          },
          "execution_count": 31,
          "metadata": {},
          "output_type": "execute_result"
        }
      ],
      "source": [
        "y_train.shape"
      ]
    },
    {
      "cell_type": "code",
      "execution_count": null,
      "metadata": {
        "id": "0kNL4GoSBvBI",
        "outputId": "8e768d6c-06af-4a66-cc75-04adf853906f"
      },
      "outputs": [
        {
          "data": {
            "text/plain": [
              "(853720, 50)"
            ]
          },
          "execution_count": 32,
          "metadata": {},
          "output_type": "execute_result"
        }
      ],
      "source": [
        "x_test.shape"
      ]
    },
    {
      "cell_type": "code",
      "execution_count": null,
      "metadata": {
        "id": "q4PxTps4BvBI",
        "outputId": "5ebe2665-7565-4c07-9a54-d41ae47e486a"
      },
      "outputs": [
        {
          "data": {
            "text/plain": [
              "(853720, 1)"
            ]
          },
          "execution_count": 33,
          "metadata": {},
          "output_type": "execute_result"
        }
      ],
      "source": [
        "y_test.shape"
      ]
    },
    {
      "cell_type": "markdown",
      "metadata": {
        "id": "RxrqPWGhBvBa"
      },
      "source": [
        "xgboost model"
      ]
    },
    {
      "cell_type": "code",
      "execution_count": null,
      "metadata": {
        "id": "UMahhn7cBvBb",
        "outputId": "e264d86e-6f23-4e24-b08b-e1ef10f2179e"
      },
      "outputs": [
        {
          "name": "stdout",
          "output_type": "stream",
          "text": [
            "Requirement already satisfied: xgboost in c:\\users\\fish19\\anaconda3\\envs\\iotgpu\\lib\\site-packages (1.1.1)\n",
            "Requirement already satisfied: scipy in c:\\users\\fish19\\anaconda3\\envs\\iotgpu\\lib\\site-packages (from xgboost) (1.4.1)\n",
            "Requirement already satisfied: numpy in c:\\users\\fish19\\anaconda3\\envs\\iotgpu\\lib\\site-packages (from xgboost) (1.18.1)\n"
          ]
        }
      ],
      "source": [
        "!pip install xgboost"
      ]
    },
    {
      "cell_type": "code",
      "execution_count": null,
      "metadata": {
        "id": "9a9gUpt8BvBb"
      },
      "outputs": [],
      "source": [
        "import seaborn as sns\n",
        "import matplotlib.pyplot as plt\n",
        "import xgboost as xgb\n",
        "from xgboost import plot_importance, plot_tree\n",
        "from sklearn.metrics import mean_squared_error, mean_absolute_error"
      ]
    },
    {
      "cell_type": "markdown",
      "metadata": {
        "id": "Qz9sRNlbBvBc"
      },
      "source": [
        "Take the first product for testing and validation. Train on the first 1721 days of the total 1913 days and use the remaining 192 days for validation."
      ]
    },
    {
      "cell_type": "code",
      "execution_count": null,
      "metadata": {
        "id": "DVFlmLNdBvBe"
      },
      "outputs": [],
      "source": [
        "#validation\n",
        "train_days = 1721\n",
        "x = x_train.iloc[:train_days].values\n",
        "y = y_train.iloc[:train_days].values\n",
        "test_days = 192\n",
        "xtest = x_train.iloc[train_days:train_days + test_days].values\n",
        "ytest = y_train.iloc[train_days:train_days + test_days].values\n",
        "reg = xgb.XGBRegressor(n_estimators=10000)\n",
        "reg.fit(x,y)\n",
        "predictions_1 = reg.predict(xtest)"
      ]
    },
    {
      "cell_type": "code",
      "execution_count": null,
      "metadata": {
        "id": "Ojo74LtTBvBf",
        "outputId": "ebf29914-124e-47f8-fa83-4e3647a75eee"
      },
      "outputs": [
        {
          "data": {
            "text/plain": [
              "array([[ 4.04847145e-01],\n",
              "       [ 7.81655312e-03],\n",
              "       [ 9.83543634e-01],\n",
              "       [ 9.93816018e-01],\n",
              "       [ 2.22872198e-02],\n",
              "       [ 5.03113866e-03],\n",
              "       [-5.14209270e-04],\n",
              "       [ 4.04847145e-01],\n",
              "       [ 7.81655312e-03],\n",
              "       [ 9.83543634e-01],\n",
              "       [ 9.93816018e-01],\n",
              "       [ 2.22872198e-02],\n",
              "       [ 5.03113866e-03],\n",
              "       [-5.14209270e-04],\n",
              "       [ 4.04847145e-01],\n",
              "       [ 7.81655312e-03],\n",
              "       [ 1.26226163e+00],\n",
              "       [ 5.13263524e-01],\n",
              "       [ 6.04845881e-01],\n",
              "       [ 3.14810216e-01],\n",
              "       [ 5.23113012e-01],\n",
              "       [ 4.68011558e-01],\n",
              "       [ 1.53193069e+00],\n",
              "       [ 1.26226163e+00],\n",
              "       [ 5.13263524e-01],\n",
              "       [ 6.04845881e-01],\n",
              "       [ 5.12667477e-01],\n",
              "       [ 5.28460085e-01],\n",
              "       [ 9.07972574e-01],\n",
              "       [ 9.79144037e-01],\n",
              "       [ 7.42478490e-01],\n",
              "       [ 1.20833158e+00],\n",
              "       [ 3.52355331e-01],\n",
              "       [ 5.12667477e-01],\n",
              "       [ 5.28460085e-01],\n",
              "       [ 9.07972574e-01],\n",
              "       [ 9.79144037e-01],\n",
              "       [ 7.42478490e-01],\n",
              "       [ 1.20833158e+00],\n",
              "       [ 3.52355331e-01],\n",
              "       [ 5.12667477e-01],\n",
              "       [ 5.28460085e-01],\n",
              "       [ 9.07972574e-01],\n",
              "       [ 9.79144037e-01],\n",
              "       [ 7.42478490e-01],\n",
              "       [ 1.20833158e+00],\n",
              "       [ 8.45123649e-01],\n",
              "       [ 2.80096233e-01],\n",
              "       [ 2.78064370e-01],\n",
              "       [ 1.06339824e+00],\n",
              "       [ 1.75676107e+00],\n",
              "       [ 1.89145952e-01],\n",
              "       [ 5.23918092e-01],\n",
              "       [ 8.45123649e-01],\n",
              "       [ 2.80096233e-01],\n",
              "       [ 2.78064370e-01],\n",
              "       [ 3.25147569e-01],\n",
              "       [ 1.25521708e+00],\n",
              "       [ 2.31923413e+00],\n",
              "       [ 5.67875206e-01],\n",
              "       [ 5.93333960e-01],\n",
              "       [ 4.65547651e-01],\n",
              "       [ 7.58316994e-01],\n",
              "       [ 3.25147569e-01],\n",
              "       [ 1.25521708e+00],\n",
              "       [ 2.31923413e+00],\n",
              "       [ 5.67875206e-01],\n",
              "       [ 5.93333960e-01],\n",
              "       [ 4.65547651e-01],\n",
              "       [ 7.58316994e-01],\n",
              "       [ 3.25147569e-01],\n",
              "       [ 1.25521708e+00],\n",
              "       [ 2.31923413e+00],\n",
              "       [ 5.67875206e-01],\n",
              "       [ 5.93333960e-01],\n",
              "       [ 4.65547651e-01],\n",
              "       [ 7.58316994e-01],\n",
              "       [ 1.89529955e-01],\n",
              "       [ 3.28192055e-01],\n",
              "       [ 5.84647655e-02],\n",
              "       [ 6.42468631e-02],\n",
              "       [-1.18723214e-01],\n",
              "       [ 4.68097746e-01],\n",
              "       [ 8.85922492e-01],\n",
              "       [ 1.89529955e-01],\n",
              "       [ 3.28192055e-01],\n",
              "       [ 5.84647655e-02],\n",
              "       [ 6.91704273e-01],\n",
              "       [ 5.16650200e-01],\n",
              "       [ 2.18394488e-01],\n",
              "       [ 4.70564127e-01],\n",
              "       [-6.05248213e-02],\n",
              "       [ 7.10596263e-01],\n",
              "       [ 3.52411211e-01],\n",
              "       [ 6.91704273e-01],\n",
              "       [ 5.16650200e-01],\n",
              "       [ 2.18394488e-01],\n",
              "       [ 4.70564127e-01],\n",
              "       [-6.05248213e-02],\n",
              "       [ 7.10596263e-01],\n",
              "       [ 3.52411211e-01],\n",
              "       [ 6.91704273e-01],\n",
              "       [ 5.16650200e-01],\n",
              "       [ 2.18394488e-01],\n",
              "       [ 4.70564127e-01],\n",
              "       [-6.05248213e-02],\n",
              "       [ 7.10596263e-01],\n",
              "       [ 3.52411211e-01],\n",
              "       [ 9.09392536e-02],\n",
              "       [ 3.39738041e-01],\n",
              "       [ 5.95693350e-01],\n",
              "       [ 1.10939860e-01],\n",
              "       [ 1.61856830e-01],\n",
              "       [ 1.47597504e+00],\n",
              "       [ 3.87396276e-01],\n",
              "       [ 9.09392536e-02],\n",
              "       [ 3.39738041e-01],\n",
              "       [ 5.95693350e-01],\n",
              "       [ 6.17829144e-01],\n",
              "       [ 1.16574407e+00],\n",
              "       [ 1.53227723e+00],\n",
              "       [ 5.75788438e-01],\n",
              "       [ 1.84778690e-01],\n",
              "       [ 4.12164867e-01],\n",
              "       [-2.04649985e-01],\n",
              "       [ 6.17829144e-01],\n",
              "       [ 1.16574407e+00],\n",
              "       [ 1.53227723e+00],\n",
              "       [ 5.75788438e-01],\n",
              "       [ 1.84778690e-01],\n",
              "       [ 4.12164867e-01],\n",
              "       [-2.04649985e-01],\n",
              "       [ 6.17829144e-01],\n",
              "       [ 1.16574407e+00],\n",
              "       [ 1.53227723e+00],\n",
              "       [ 5.75788438e-01],\n",
              "       [ 1.84778690e-01],\n",
              "       [ 6.40851736e-01],\n",
              "       [ 1.21248066e-01],\n",
              "       [ 1.39679372e-01],\n",
              "       [ 2.18731403e-01],\n",
              "       [ 9.33900476e-01],\n",
              "       [ 4.13339287e-01],\n",
              "       [ 1.10798299e-01],\n",
              "       [ 6.40851736e-01],\n",
              "       [ 1.21248066e-01],\n",
              "       [ 1.39679372e-01],\n",
              "       [ 4.19219911e-01],\n",
              "       [ 5.89476824e-01],\n",
              "       [ 3.88349473e-01],\n",
              "       [ 6.55303538e-01],\n",
              "       [ 2.44529814e-01],\n",
              "       [ 3.50474954e-01],\n",
              "       [ 3.55358392e-01],\n",
              "       [ 4.19219911e-01],\n",
              "       [ 5.89476824e-01],\n",
              "       [ 3.88349473e-01],\n",
              "       [ 6.55303538e-01],\n",
              "       [ 2.44529814e-01],\n",
              "       [ 3.50474954e-01],\n",
              "       [ 3.55358392e-01],\n",
              "       [ 4.19219911e-01],\n",
              "       [ 5.89476824e-01],\n",
              "       [ 3.88349473e-01],\n",
              "       [ 6.55303538e-01],\n",
              "       [ 2.44529814e-01],\n",
              "       [ 3.50474954e-01],\n",
              "       [ 3.55358392e-01],\n",
              "       [ 2.82723963e-01],\n",
              "       [ 7.43115664e-01],\n",
              "       [ 1.02815330e-02],\n",
              "       [ 7.24640727e-01],\n",
              "       [ 4.82661992e-01],\n",
              "       [ 5.18030345e-01],\n",
              "       [ 2.56509542e-01],\n",
              "       [ 2.82723963e-01],\n",
              "       [ 7.43115664e-01],\n",
              "       [ 1.02815330e-02],\n",
              "       [ 5.68478167e-01],\n",
              "       [ 2.25416452e-01],\n",
              "       [ 3.13146561e-01],\n",
              "       [ 3.65294397e-01],\n",
              "       [ 3.08451116e-01],\n",
              "       [ 8.96049500e-01],\n",
              "       [ 1.05891585e-01],\n",
              "       [ 5.68478167e-01],\n",
              "       [ 2.25416452e-01],\n",
              "       [ 3.13146561e-01],\n",
              "       [ 3.65294397e-01],\n",
              "       [ 3.08451116e-01],\n",
              "       [ 8.96049500e-01],\n",
              "       [ 1.05891585e-01]], dtype=float32)"
            ]
          },
          "execution_count": 38,
          "metadata": {},
          "output_type": "execute_result"
        }
      ],
      "source": [
        "predictions_1.reshape((192,1))"
      ]
    },
    {
      "cell_type": "code",
      "execution_count": null,
      "metadata": {
        "id": "YbolC1kXBvBi"
      },
      "outputs": [],
      "source": [
        "def RMSE(y_real, y_hat):\n",
        "    RMSE = 0\n",
        "    for i in range (len(y_real)):\n",
        "        RMSE += (y_real[i] - y_hat[i])**2\n",
        "    RMSE = (RMSE / len(y_real)) ** 0.5\n",
        "    return RMSE"
      ]
    },
    {
      "cell_type": "code",
      "execution_count": null,
      "metadata": {
        "id": "l2pCMGXIBvBj",
        "outputId": "7b2f6e1e-fca7-4d42-bcd2-54413f9c8802"
      },
      "outputs": [
        {
          "data": {
            "text/plain": [
              "array([1.1348348])"
            ]
          },
          "execution_count": 40,
          "metadata": {},
          "output_type": "execute_result"
        }
      ],
      "source": [
        "RMSE(predictions_1, ytest)"
      ]
    },
    {
      "cell_type": "code",
      "execution_count": null,
      "metadata": {
        "id": "Wg5Wu4euBvBk",
        "outputId": "c98d14d2-26d5-4189-a96a-a047d611147d"
      },
      "outputs": [
        {
          "data": {
            "text/plain": [
              "[<matplotlib.lines.Line2D at 0x2e480ffe488>]"
            ]
          },
          "execution_count": 41,
          "metadata": {},
          "output_type": "execute_result"
        },
        {
          "data": {
            "image/png": "[encoded data removed]",
            "text/plain": [
              "<Figure size 432x288 with 1 Axes>"
            ]
          },
          "metadata": {
            "needs_background": "light"
          },
          "output_type": "display_data"
        }
      ],
      "source": [
        "plt.plot(predictions_1, color = 'red')\n",
        "plt.plot(ytest)"
      ]
    },
    {
      "cell_type": "code",
      "execution_count": null,
      "metadata": {
        "id": "NJIrw9MqBvBl"
      },
      "outputs": [],
      "source": [
        "#evaluation\n",
        "train = 1913\n",
        "x_t = x_train.iloc[:train].values\n",
        "y_t = y_train.iloc[:train].values\n",
        "test = 28\n",
        "x_eval = x_test.iloc[train:train + test].values\n",
        "y_eval = y_test.iloc[train:train + test].values\n",
        "reg.fit(x_t,y_t)\n",
        "predictions_2 = reg.predict(x_eval)"
      ]
    },
    {
      "cell_type": "code",
      "execution_count": null,
      "metadata": {
        "id": "0MJ7CjP2BvBl",
        "outputId": "4575eae1-4bcb-4e92-d444-f4ef0b16290d"
      },
      "outputs": [
        {
          "data": {
            "text/plain": [
              "array([[ 4.9986911e-01],\n",
              "       [ 9.9984199e-01],\n",
              "       [ 1.0045100e+00],\n",
              "       [-1.1335015e-03],\n",
              "       [ 9.9573773e-01],\n",
              "       [ 1.8934846e-02],\n",
              "       [ 9.9861801e-01],\n",
              "       [ 4.9986911e-01],\n",
              "       [ 9.9984199e-01],\n",
              "       [ 1.0045100e+00],\n",
              "       [ 6.6764188e-01],\n",
              "       [ 1.3335721e+00],\n",
              "       [ 6.6505086e-01],\n",
              "       [ 9.9975812e-01],\n",
              "       [ 1.0012171e+00],\n",
              "       [ 3.3698702e-01],\n",
              "       [ 2.3288980e+00],\n",
              "       [ 6.6764188e-01],\n",
              "       [ 1.3335721e+00],\n",
              "       [ 1.3326385e+00],\n",
              "       [-5.3155422e-04],\n",
              "       [ 5.0163823e-01],\n",
              "       [ 3.3771554e-01],\n",
              "       [ 1.0017914e+00],\n",
              "       [ 3.3297536e+00],\n",
              "       [ 6.6378713e-01],\n",
              "       [ 1.3326385e+00],\n",
              "       [-5.3155422e-04]], dtype=float32)"
            ]
          },
          "execution_count": 43,
          "metadata": {},
          "output_type": "execute_result"
        }
      ],
      "source": [
        "predictions_2.reshape((28,1))"
      ]
    },
    {
      "cell_type": "code",
      "execution_count": null,
      "metadata": {
        "id": "oikmkFBmBvBm",
        "outputId": "0f2ffd83-9aff-415a-ae4d-a70c7e092666"
      },
      "outputs": [
        {
          "data": {
            "text/plain": [
              "array([1.16121088])"
            ]
          },
          "execution_count": 44,
          "metadata": {},
          "output_type": "execute_result"
        }
      ],
      "source": [
        "RMSE(predictions_2, y_eval)"
      ]
    },
    {
      "cell_type": "code",
      "execution_count": null,
      "metadata": {
        "id": "R3a6Vp_iBvBm",
        "outputId": "bdb6f4a6-ba36-4b81-ab8b-f8ed970fab04"
      },
      "outputs": [
        {
          "data": {
            "text/plain": [
              "[<matplotlib.lines.Line2D at 0x2e481b3c788>]"
            ]
          },
          "execution_count": 45,
          "metadata": {},
          "output_type": "execute_result"
        },
        {
          "data": {
            "image/png": "[encoded data removed]",
            "text/plain": [
              "<Figure size 432x288 with 1 Axes>"
            ]
          },
          "metadata": {
            "needs_background": "light"
          },
          "output_type": "display_data"
        }
      ],
      "source": [
        "plt.plot(predictions_2, color = 'red')\n",
        "plt.plot(y_eval)"
      ]
    }
  ],
  "metadata": {
    "kernelspec": {
      "display_name": "Python 3",
      "language": "python",
      "name": "python3"
    },
    "language_info": {
      "codemirror_mode": {
        "name": "ipython",
        "version": 3
      },
      "file_extension": ".py",
      "mimetype": "text/x-python",
      "name": "python",
      "nbconvert_exporter": "python",
      "pygments_lexer": "ipython3",
      "version": "3.7.7"
    },
    "colab": {
      "provenance": [],
      "include_colab_link": true
    }
  },
  "nbformat": 4,
  "nbformat_minor": 0
}