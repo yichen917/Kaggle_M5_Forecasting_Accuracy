{
  "nbformat": 4,
  "nbformat_minor": 0,
  "metadata": {
    "colab": {
      "provenance": [],
      "machine_shape": "hm"
    },
    "kernelspec": {
      "name": "python3",
      "display_name": "Python 3"
    },
    "accelerator": "TPU"
  },
  "cells": [
    {
      "cell_type": "markdown",
      "metadata": {
        "id": "-134aC9xUNh6"
      },
      "source": [
        "### LSTM model\n",
        "\n",
        "In addition to the methods such as ARIMA and XGBoost mentioned earlier, we also want to try prediction using deep learning. Since this is a time series data, we chose to use LSTM as the model."
      ]
    },
    {
      "cell_type": "code",
      "metadata": {
        "id": "dikJIf7bCNG6",
        "outputId": "793cfd6d-c2a7-48b7-969d-b493c415197c",
        "colab": {
          "base_uri": "https://localhost:8080/",
          "height": 159
        }
      },
      "source": [
        "import numpy as np\n",
        "import pandas as pd\n",
        "import matplotlib.pyplot as plt\n",
        "import seaborn as sns\n",
        "from google.colab import files\n",
        "from google.colab import drive\n",
        "from sklearn.model_selection import train_test_split\n",
        "drive.mount('/content/drive')"
      ],
      "execution_count": null,
      "outputs": [
        {
          "output_type": "stream",
          "text": [
            "/usr/local/lib/python3.6/dist-packages/statsmodels/tools/_testing.py:19: FutureWarning: pandas.util.testing is deprecated. Use the functions in the public API at pandas.testing instead.\n",
            "  import pandas.util.testing as tm\n"
          ],
          "name": "stderr"
        },
        {
          "output_type": "stream",
          "text": [
            "Go to this URL in a browser: https://accounts.google.com/o/oauth2/auth?client_id=947318989803-6bn6qk8qdgf4n4g3pfee6491hc0brc4i.apps.googleusercontent.com&redirect_uri=urn%3aietf%3awg%3aoauth%3a2.0%3aoob&response_type=code&scope=email%20https%3a%2f%2fwww.googleapis.com%2fauth%2fdocs.test%20https%3a%2f%2fwww.googleapis.com%2fauth%2fdrive%20https%3a%2f%2fwww.googleapis.com%2fauth%2fdrive.photos.readonly%20https%3a%2f%2fwww.googleapis.com%2fauth%2fpeopleapi.readonly\n",
            "\n",
            "Enter your authorization code:\n",
            "··········\n",
            "Mounted at /content/drive\n"
          ],
          "name": "stdout"
        }
      ]
    },
    {
      "cell_type": "markdown",
      "metadata": {
        "id": "eUX2NT7CUmQl"
      },
      "source": [
        "Use HOBBIES_1_001_CA_1, which is the first item in the HOBBIES_1 category, from the first store in California as partial data. Use this partial data to for model training and compare the results with ARIMA, XGBoost, and LSTM to select the best-performing model."
      ]
    },
    {
      "cell_type": "code",
      "metadata": {
        "id": "t6CscVqCqOmx",
        "colab": {
          "base_uri": "https://localhost:8080/",
          "height": 35
        },
        "outputId": "0d4fec14-e760-4853-9263-6a2022919a72"
      },
      "source": [
        "CA_data = pd.read_csv(\"/content/drive/My Drive/Colab Notebooks/SL Data/data_by_state/CA_df.csv\",\\\n",
        "                      dtype = {'item_id':'str', 'dept_id':'str', 'store_id':'str', 'month':'str', 'year':'str', 'snap':'str'})\n",
        "CA_data.shape"
      ],
      "execution_count": null,
      "outputs": [
        {
          "output_type": "execute_result",
          "data": {
            "text/plain": [
              "(23330948, 12)"
            ]
          },
          "metadata": {
            "tags": []
          },
          "execution_count": 3
        }
      ]
    },
    {
      "cell_type": "code",
      "metadata": {
        "id": "80q46WYWLI1q",
        "outputId": "8e1b807f-88e5-40ec-c1df-10ac063e9612",
        "colab": {
          "base_uri": "https://localhost:8080/",
          "height": 202
        }
      },
      "source": [
        "CA_data.head()"
      ],
      "execution_count": null,
      "outputs": [
        {
          "output_type": "execute_result",
          "data": {
            "text/html": [
              "<div>\n",
              "<style scoped>\n",
              "    .dataframe tbody tr th:only-of-type {\n",
              "        vertical-align: middle;\n",
              "    }\n",
              "\n",
              "    .dataframe tbody tr th {\n",
              "        vertical-align: top;\n",
              "    }\n",
              "\n",
              "    .dataframe thead th {\n",
              "        text-align: right;\n",
              "    }\n",
              "</style>\n",
              "<table border=\"1\" class=\"dataframe\">\n",
              "  <thead>\n",
              "    <tr style=\"text-align: right;\">\n",
              "      <th></th>\n",
              "      <th>item_id</th>\n",
              "      <th>dept_id</th>\n",
              "      <th>cat_id</th>\n",
              "      <th>store_id</th>\n",
              "      <th>state_id</th>\n",
              "      <th>num_sold</th>\n",
              "      <th>weekday</th>\n",
              "      <th>month</th>\n",
              "      <th>year</th>\n",
              "      <th>snap</th>\n",
              "      <th>sell_price</th>\n",
              "      <th>d_num</th>\n",
              "    </tr>\n",
              "  </thead>\n",
              "  <tbody>\n",
              "    <tr>\n",
              "      <th>0</th>\n",
              "      <td>001</td>\n",
              "      <td>1</td>\n",
              "      <td>HOBBIES</td>\n",
              "      <td>1</td>\n",
              "      <td>CA</td>\n",
              "      <td>0</td>\n",
              "      <td>Saturday</td>\n",
              "      <td>1</td>\n",
              "      <td>2011</td>\n",
              "      <td>0</td>\n",
              "      <td>9.58</td>\n",
              "      <td>1</td>\n",
              "    </tr>\n",
              "    <tr>\n",
              "      <th>1</th>\n",
              "      <td>001</td>\n",
              "      <td>1</td>\n",
              "      <td>HOBBIES</td>\n",
              "      <td>1</td>\n",
              "      <td>CA</td>\n",
              "      <td>0</td>\n",
              "      <td>Sunday</td>\n",
              "      <td>1</td>\n",
              "      <td>2011</td>\n",
              "      <td>0</td>\n",
              "      <td>9.58</td>\n",
              "      <td>2</td>\n",
              "    </tr>\n",
              "    <tr>\n",
              "      <th>2</th>\n",
              "      <td>001</td>\n",
              "      <td>1</td>\n",
              "      <td>HOBBIES</td>\n",
              "      <td>1</td>\n",
              "      <td>CA</td>\n",
              "      <td>0</td>\n",
              "      <td>Monday</td>\n",
              "      <td>1</td>\n",
              "      <td>2011</td>\n",
              "      <td>0</td>\n",
              "      <td>9.58</td>\n",
              "      <td>3</td>\n",
              "    </tr>\n",
              "    <tr>\n",
              "      <th>3</th>\n",
              "      <td>001</td>\n",
              "      <td>1</td>\n",
              "      <td>HOBBIES</td>\n",
              "      <td>1</td>\n",
              "      <td>CA</td>\n",
              "      <td>0</td>\n",
              "      <td>Tuesday</td>\n",
              "      <td>2</td>\n",
              "      <td>2011</td>\n",
              "      <td>1</td>\n",
              "      <td>9.58</td>\n",
              "      <td>4</td>\n",
              "    </tr>\n",
              "    <tr>\n",
              "      <th>4</th>\n",
              "      <td>001</td>\n",
              "      <td>1</td>\n",
              "      <td>HOBBIES</td>\n",
              "      <td>1</td>\n",
              "      <td>CA</td>\n",
              "      <td>0</td>\n",
              "      <td>Wednesday</td>\n",
              "      <td>2</td>\n",
              "      <td>2011</td>\n",
              "      <td>1</td>\n",
              "      <td>9.58</td>\n",
              "      <td>5</td>\n",
              "    </tr>\n",
              "  </tbody>\n",
              "</table>\n",
              "</div>"
            ],
            "text/plain": [
              "  item_id dept_id   cat_id store_id  ...  year  snap sell_price d_num\n",
              "0     001       1  HOBBIES        1  ...  2011     0       9.58     1\n",
              "1     001       1  HOBBIES        1  ...  2011     0       9.58     2\n",
              "2     001       1  HOBBIES        1  ...  2011     0       9.58     3\n",
              "3     001       1  HOBBIES        1  ...  2011     1       9.58     4\n",
              "4     001       1  HOBBIES        1  ...  2011     1       9.58     5\n",
              "\n",
              "[5 rows x 12 columns]"
            ]
          },
          "metadata": {
            "tags": []
          },
          "execution_count": 4
        }
      ]
    },
    {
      "cell_type": "code",
      "metadata": {
        "id": "IwGaaI0XB8PT"
      },
      "source": [
        "# Data preprocessing\n",
        "# Drop year, create id_column\n",
        "CA_data.drop('year', axis=1, inplace = True)\n",
        "CA_data['id'] = CA_data['cat_id'] + '_' + CA_data['dept_id'] + '_' + CA_data['item_id'] + '_' + CA_data['state_id'] + '_' + CA_data['store_id']"
      ],
      "execution_count": null,
      "outputs": []
    },
    {
      "cell_type": "code",
      "metadata": {
        "id": "OulPtMbagVa5"
      },
      "source": [
        "# Use store_1 in CA and HOBBIES_1_001\n",
        "CA_1_data = CA_data[(CA_data['store_id']=='1') & (CA_data['cat_id']==\"HOBBIES\") & (CA_data['dept_id'] == '1') & (CA_data['item_id'] == '001')]"
      ],
      "execution_count": null,
      "outputs": []
    },
    {
      "cell_type": "code",
      "metadata": {
        "id": "7hhgiNrGWwY_",
        "colab": {
          "base_uri": "https://localhost:8080/",
          "height": 35
        },
        "outputId": "cb0f6a45-cec1-4234-9cda-9a6011547fb2"
      },
      "source": [
        "# item_1 = CA_1_data\n",
        "item_1 = CA_1_data.reset_index(drop = True)\n",
        "item_1.shape"
      ],
      "execution_count": null,
      "outputs": [
        {
          "output_type": "execute_result",
          "data": {
            "text/plain": [
              "(1913, 12)"
            ]
          },
          "metadata": {
            "tags": []
          },
          "execution_count": 7
        }
      ]
    },
    {
      "cell_type": "markdown",
      "metadata": {
        "id": "zfRTs8-SVjdb"
      },
      "source": [
        "#### ONE_HOT_ENCODING\n",
        "We transformed categorical data using one-hot-encoing. The categorical data includes item id, item dept_id, item cat_id, weekday, and snap."
      ]
    },
    {
      "cell_type": "code",
      "metadata": {
        "id": "4OfayrUjbJ1F",
        "outputId": "7e5fd756-c23f-46de-86bd-f086ed145e72",
        "colab": {
          "base_uri": "https://localhost:8080/",
          "height": 130
        }
      },
      "source": [
        "item_1_dummy = pd.get_dummies(item_1,columns = ['item_id', 'dept_id', 'cat_id', 'weekday', 'snap'], drop_first=True)\n",
        "item_1_dummy.head(2)"
      ],
      "execution_count": null,
      "outputs": [
        {
          "output_type": "execute_result",
          "data": {
            "text/html": [
              "<div>\n",
              "<style scoped>\n",
              "    .dataframe tbody tr th:only-of-type {\n",
              "        vertical-align: middle;\n",
              "    }\n",
              "\n",
              "    .dataframe tbody tr th {\n",
              "        vertical-align: top;\n",
              "    }\n",
              "\n",
              "    .dataframe thead th {\n",
              "        text-align: right;\n",
              "    }\n",
              "</style>\n",
              "<table border=\"1\" class=\"dataframe\">\n",
              "  <thead>\n",
              "    <tr style=\"text-align: right;\">\n",
              "      <th></th>\n",
              "      <th>store_id</th>\n",
              "      <th>state_id</th>\n",
              "      <th>num_sold</th>\n",
              "      <th>month</th>\n",
              "      <th>sell_price</th>\n",
              "      <th>d_num</th>\n",
              "      <th>id</th>\n",
              "      <th>weekday_Monday</th>\n",
              "      <th>weekday_Saturday</th>\n",
              "      <th>weekday_Sunday</th>\n",
              "      <th>weekday_Thursday</th>\n",
              "      <th>weekday_Tuesday</th>\n",
              "      <th>weekday_Wednesday</th>\n",
              "      <th>snap_1</th>\n",
              "    </tr>\n",
              "  </thead>\n",
              "  <tbody>\n",
              "    <tr>\n",
              "      <th>0</th>\n",
              "      <td>1</td>\n",
              "      <td>CA</td>\n",
              "      <td>0</td>\n",
              "      <td>1</td>\n",
              "      <td>9.58</td>\n",
              "      <td>1</td>\n",
              "      <td>HOBBIES_1_001_CA_1</td>\n",
              "      <td>0</td>\n",
              "      <td>1</td>\n",
              "      <td>0</td>\n",
              "      <td>0</td>\n",
              "      <td>0</td>\n",
              "      <td>0</td>\n",
              "      <td>0</td>\n",
              "    </tr>\n",
              "    <tr>\n",
              "      <th>1</th>\n",
              "      <td>1</td>\n",
              "      <td>CA</td>\n",
              "      <td>0</td>\n",
              "      <td>1</td>\n",
              "      <td>9.58</td>\n",
              "      <td>2</td>\n",
              "      <td>HOBBIES_1_001_CA_1</td>\n",
              "      <td>0</td>\n",
              "      <td>0</td>\n",
              "      <td>1</td>\n",
              "      <td>0</td>\n",
              "      <td>0</td>\n",
              "      <td>0</td>\n",
              "      <td>0</td>\n",
              "    </tr>\n",
              "  </tbody>\n",
              "</table>\n",
              "</div>"
            ],
            "text/plain": [
              "  store_id state_id  num_sold  ... weekday_Tuesday  weekday_Wednesday  snap_1\n",
              "0        1       CA         0  ...               0                  0       0\n",
              "1        1       CA         0  ...               0                  0       0\n",
              "\n",
              "[2 rows x 14 columns]"
            ]
          },
          "metadata": {
            "tags": []
          },
          "execution_count": 8
        }
      ]
    },
    {
      "cell_type": "code",
      "metadata": {
        "id": "yN1fzQcK7vR6"
      },
      "source": [
        "# Take 10% of data to be the model's validation data\n",
        "train_1_data, val_1_data = item_1_dummy[item_1_dummy['d_num'] < 1723], item_1_dummy[item_1_dummy['d_num'] >= 1723]"
      ],
      "execution_count": null,
      "outputs": []
    },
    {
      "cell_type": "markdown",
      "metadata": {
        "id": "FnGwSZ1YWHbH"
      },
      "source": [
        "#### Create train test dataframes"
      ]
    },
    {
      "cell_type": "code",
      "metadata": {
        "id": "GzA6JZHLhGkL"
      },
      "source": [
        "def create_xy_data(df):\n",
        "  x_train_id, y_train = df['id'],df['num_sold']\n",
        "  df = df.drop(['id','d_num','state_id','num_sold','store_id'],axis=1)\n",
        "  return df, y_train, x_train_id"
      ],
      "execution_count": null,
      "outputs": []
    },
    {
      "cell_type": "code",
      "metadata": {
        "id": "WzLsFnaphfYw"
      },
      "source": [
        "x_train, y_train, x_train_id = create_xy_data(train_1_data)\n",
        "x_val, y_val, x_val_id = create_xy_data(val_1_data)"
      ],
      "execution_count": null,
      "outputs": []
    },
    {
      "cell_type": "code",
      "metadata": {
        "id": "-XmTmYRLiwKK",
        "outputId": "d1c03386-3742-4b0b-db50-4bdf3e3a9b5c",
        "colab": {
          "base_uri": "https://localhost:8080/",
          "height": 202
        }
      },
      "source": [
        "x_train.head()"
      ],
      "execution_count": null,
      "outputs": [
        {
          "output_type": "execute_result",
          "data": {
            "text/html": [
              "<div>\n",
              "<style scoped>\n",
              "    .dataframe tbody tr th:only-of-type {\n",
              "        vertical-align: middle;\n",
              "    }\n",
              "\n",
              "    .dataframe tbody tr th {\n",
              "        vertical-align: top;\n",
              "    }\n",
              "\n",
              "    .dataframe thead th {\n",
              "        text-align: right;\n",
              "    }\n",
              "</style>\n",
              "<table border=\"1\" class=\"dataframe\">\n",
              "  <thead>\n",
              "    <tr style=\"text-align: right;\">\n",
              "      <th></th>\n",
              "      <th>month</th>\n",
              "      <th>sell_price</th>\n",
              "      <th>weekday_Monday</th>\n",
              "      <th>weekday_Saturday</th>\n",
              "      <th>weekday_Sunday</th>\n",
              "      <th>weekday_Thursday</th>\n",
              "      <th>weekday_Tuesday</th>\n",
              "      <th>weekday_Wednesday</th>\n",
              "      <th>snap_1</th>\n",
              "    </tr>\n",
              "  </thead>\n",
              "  <tbody>\n",
              "    <tr>\n",
              "      <th>0</th>\n",
              "      <td>1</td>\n",
              "      <td>9.58</td>\n",
              "      <td>0</td>\n",
              "      <td>1</td>\n",
              "      <td>0</td>\n",
              "      <td>0</td>\n",
              "      <td>0</td>\n",
              "      <td>0</td>\n",
              "      <td>0</td>\n",
              "    </tr>\n",
              "    <tr>\n",
              "      <th>1</th>\n",
              "      <td>1</td>\n",
              "      <td>9.58</td>\n",
              "      <td>0</td>\n",
              "      <td>0</td>\n",
              "      <td>1</td>\n",
              "      <td>0</td>\n",
              "      <td>0</td>\n",
              "      <td>0</td>\n",
              "      <td>0</td>\n",
              "    </tr>\n",
              "    <tr>\n",
              "      <th>2</th>\n",
              "      <td>1</td>\n",
              "      <td>9.58</td>\n",
              "      <td>1</td>\n",
              "      <td>0</td>\n",
              "      <td>0</td>\n",
              "      <td>0</td>\n",
              "      <td>0</td>\n",
              "      <td>0</td>\n",
              "      <td>0</td>\n",
              "    </tr>\n",
              "    <tr>\n",
              "      <th>3</th>\n",
              "      <td>2</td>\n",
              "      <td>9.58</td>\n",
              "      <td>0</td>\n",
              "      <td>0</td>\n",
              "      <td>0</td>\n",
              "      <td>0</td>\n",
              "      <td>1</td>\n",
              "      <td>0</td>\n",
              "      <td>1</td>\n",
              "    </tr>\n",
              "    <tr>\n",
              "      <th>4</th>\n",
              "      <td>2</td>\n",
              "      <td>9.58</td>\n",
              "      <td>0</td>\n",
              "      <td>0</td>\n",
              "      <td>0</td>\n",
              "      <td>0</td>\n",
              "      <td>0</td>\n",
              "      <td>1</td>\n",
              "      <td>1</td>\n",
              "    </tr>\n",
              "  </tbody>\n",
              "</table>\n",
              "</div>"
            ],
            "text/plain": [
              "  month  sell_price  weekday_Monday  ...  weekday_Tuesday  weekday_Wednesday  snap_1\n",
              "0     1        9.58               0  ...                0                  0       0\n",
              "1     1        9.58               0  ...                0                  0       0\n",
              "2     1        9.58               1  ...                0                  0       0\n",
              "3     2        9.58               0  ...                1                  0       1\n",
              "4     2        9.58               0  ...                0                  1       1\n",
              "\n",
              "[5 rows x 9 columns]"
            ]
          },
          "metadata": {
            "tags": []
          },
          "execution_count": 39
        }
      ]
    },
    {
      "cell_type": "code",
      "metadata": {
        "id": "K4Mzex-oiynq",
        "outputId": "b10bb1db-f9aa-4a3c-cd0e-672dc7886724",
        "colab": {
          "base_uri": "https://localhost:8080/",
          "height": 121
        }
      },
      "source": [
        "y_train.head()"
      ],
      "execution_count": null,
      "outputs": [
        {
          "output_type": "execute_result",
          "data": {
            "text/plain": [
              "0    0\n",
              "1    0\n",
              "2    0\n",
              "3    0\n",
              "4    0\n",
              "Name: num_sold, dtype: int64"
            ]
          },
          "metadata": {
            "tags": []
          },
          "execution_count": 40
        }
      ]
    },
    {
      "cell_type": "markdown",
      "metadata": {
        "id": "CrUJ--lkWM7b"
      },
      "source": [
        "#### Standardize continuous variables\n",
        "Standardizing continuous variables can reduce biases in weights caused by differences in numerical scales. In our case, the only continuous variable is price, so we only need to standardize the price feature."
      ]
    },
    {
      "cell_type": "code",
      "metadata": {
        "id": "q_P8YeF6lkri"
      },
      "source": [
        "from sklearn.preprocessing import StandardScaler"
      ],
      "execution_count": null,
      "outputs": []
    },
    {
      "cell_type": "code",
      "metadata": {
        "id": "xTt_etqPlp--"
      },
      "source": [
        "scaler_x = StandardScaler()\n",
        "x_train['sell_price'] = scaler_x.fit_transform(np.array(x_train['sell_price']).reshape(-1,1))\n",
        "x_val['sell_price'] = scaler_x.transform(np.array(x_val['sell_price']).reshape(-1,1))"
      ],
      "execution_count": null,
      "outputs": []
    },
    {
      "cell_type": "code",
      "metadata": {
        "id": "BkrnYMSfgsZ3",
        "outputId": "4428ebb1-d874-49ee-a08b-3767cf88af68",
        "colab": {
          "base_uri": "https://localhost:8080/",
          "height": 110
        }
      },
      "source": [
        "x_train.head(2)"
      ],
      "execution_count": null,
      "outputs": [
        {
          "output_type": "execute_result",
          "data": {
            "text/html": [
              "<div>\n",
              "<style scoped>\n",
              "    .dataframe tbody tr th:only-of-type {\n",
              "        vertical-align: middle;\n",
              "    }\n",
              "\n",
              "    .dataframe tbody tr th {\n",
              "        vertical-align: top;\n",
              "    }\n",
              "\n",
              "    .dataframe thead th {\n",
              "        text-align: right;\n",
              "    }\n",
              "</style>\n",
              "<table border=\"1\" class=\"dataframe\">\n",
              "  <thead>\n",
              "    <tr style=\"text-align: right;\">\n",
              "      <th></th>\n",
              "      <th>month</th>\n",
              "      <th>sell_price</th>\n",
              "      <th>weekday_Monday</th>\n",
              "      <th>weekday_Saturday</th>\n",
              "      <th>weekday_Sunday</th>\n",
              "      <th>weekday_Thursday</th>\n",
              "      <th>weekday_Tuesday</th>\n",
              "      <th>weekday_Wednesday</th>\n",
              "      <th>snap_1</th>\n",
              "    </tr>\n",
              "  </thead>\n",
              "  <tbody>\n",
              "    <tr>\n",
              "      <th>0</th>\n",
              "      <td>1</td>\n",
              "      <td>0.94462</td>\n",
              "      <td>0</td>\n",
              "      <td>1</td>\n",
              "      <td>0</td>\n",
              "      <td>0</td>\n",
              "      <td>0</td>\n",
              "      <td>0</td>\n",
              "      <td>0</td>\n",
              "    </tr>\n",
              "    <tr>\n",
              "      <th>1</th>\n",
              "      <td>1</td>\n",
              "      <td>0.94462</td>\n",
              "      <td>0</td>\n",
              "      <td>0</td>\n",
              "      <td>1</td>\n",
              "      <td>0</td>\n",
              "      <td>0</td>\n",
              "      <td>0</td>\n",
              "      <td>0</td>\n",
              "    </tr>\n",
              "  </tbody>\n",
              "</table>\n",
              "</div>"
            ],
            "text/plain": [
              "  month  sell_price  weekday_Monday  ...  weekday_Tuesday  weekday_Wednesday  snap_1\n",
              "0     1     0.94462               0  ...                0                  0       0\n",
              "1     1     0.94462               0  ...                0                  0       0\n",
              "\n",
              "[2 rows x 9 columns]"
            ]
          },
          "metadata": {
            "tags": []
          },
          "execution_count": 43
        }
      ]
    },
    {
      "cell_type": "code",
      "metadata": {
        "id": "WRnS23eRYcnJ",
        "outputId": "a5b46f59-1207-4964-e5e9-68263ccd77e8",
        "colab": {
          "base_uri": "https://localhost:8080/",
          "height": 35
        }
      },
      "source": [
        "print(x_train.shape, x_val.shape)"
      ],
      "execution_count": null,
      "outputs": [
        {
          "output_type": "stream",
          "text": [
            "(1722, 9) (191, 9)\n"
          ],
          "name": "stdout"
        }
      ]
    },
    {
      "cell_type": "markdown",
      "metadata": {
        "id": "j0-0eDYIWlw8"
      },
      "source": [
        "### Convert Data Dimension\n",
        "LSTM是適合時間序列的模型，也因為這個特性，input data 可以是三維的資料，也就是除了平常的(資料筆數, 特徵數量)以外，還可以加上時間。\n",
        "\n",
        "由於這次的目標是預測未來28天，因此我們很初步的將往回看的資料設定為前28天，也就是說每個資料點在做判斷時，模型會同時考量前28天的資料。加入時間後，特徵dataframe的維度會變為(資料筆數, 往回看的天數, 特徵數量)的三維資料。\n",
        "\n",
        "LSTM is a model suitable for time series data, and due to this characteristic, the input data can be three-dimensional. Besides the usual dimensions (number of data points, number of features), we can also include a time dimension.\n",
        "\n",
        "Since our goal is to predict the next 28 days, we initially set the lookback period to the previous 28 days. This means that when making predictions for each data point, the model will simultaneously consider the data from the past 28 days. After adding the time data, the dimensions of the feature dataframe become three-dimensional (number of data points, lookback days, number of features)."
      ]
    },
    {
      "cell_type": "code",
      "metadata": {
        "id": "Nz88ekyuPey7"
      },
      "source": [
        "LOOKBACK_MAX = 28"
      ],
      "execution_count": null,
      "outputs": []
    },
    {
      "cell_type": "code",
      "metadata": {
        "id": "nSRuJZrHY5Fx",
        "outputId": "f0620eb9-997c-4bd0-c48b-abf013ca3146",
        "colab": {
          "base_uri": "https://localhost:8080/",
          "height": 35
        }
      },
      "source": [
        "x_train_time = []\n",
        "for i in range(LOOKBACK_MAX, x_train.shape[0]):\n",
        "  x_train_time.append(x_train.iloc[i - LOOKBACK_MAX:i].values.tolist())\n",
        "x_train_time = np.array(x_train_time)\n",
        "\n",
        "x_val_time = []\n",
        "for i in range(LOOKBACK_MAX, x_val.shape[0]):\n",
        "  x_val_time.append(x_val.iloc[i-LOOKBACK_MAX:i].values.tolist())\n",
        "x_val_time = np.array(x_val_time)\n",
        "\n",
        "y_train = y_train.values\n",
        "y_val = y_val.values\n",
        "y_train_time = y_train[LOOKBACK_MAX:]\n",
        "y_val_time = y_val[LOOKBACK_MAX:]\n",
        "print(x_train_time.shape, y_train_time.shape, x_val_time.shape, y_val_time.shape)"
      ],
      "execution_count": null,
      "outputs": [
        {
          "output_type": "stream",
          "text": [
            "(1694, 28, 9) (1694,) (163, 28, 9) (163,)\n"
          ],
          "name": "stdout"
        }
      ]
    },
    {
      "cell_type": "markdown",
      "metadata": {
        "id": "UXr6nZRBYTeu"
      },
      "source": [
        "#### Build Model\n",
        "We use Keras as the tool to build the model. The model consists of one LSTM layer followed by three Dense layers. The activation function for the last Dense layer is set to linear because we are dealing with a regression problem where we aim to predict continuous values."
      ]
    },
    {
      "cell_type": "code",
      "metadata": {
        "id": "gDq4I3oaqYYu"
      },
      "source": [
        "import keras\n",
        "from keras import Sequential\n",
        "from keras import layers"
      ],
      "execution_count": null,
      "outputs": []
    },
    {
      "cell_type": "code",
      "metadata": {
        "id": "OJNCENA3z84P"
      },
      "source": [
        "def build_model(shape):\n",
        "  model = Sequential()\n",
        "  model.add(layers.LSTM(50, input_shape=(shape[1], shape[2]), return_sequences=False))\n",
        "\n",
        "  model.add(layers.Dense(32, activation='relu'))\n",
        "  model.add(layers.Dense(16, activation='relu'))\n",
        "  model.add(layers.Dense(1, activation = 'linear'))\n",
        "\n",
        "  model.compile(\n",
        "      loss= keras.losses.MeanSquaredError(),\n",
        "      optimizer='adam',\n",
        "  )\n",
        "\n",
        "  return model"
      ],
      "execution_count": null,
      "outputs": []
    },
    {
      "cell_type": "code",
      "metadata": {
        "id": "ehcEHuY-qW-B",
        "outputId": "644676e2-8172-4b66-b6eb-0ff73d699d37",
        "colab": {
          "base_uri": "https://localhost:8080/",
          "height": 381
        }
      },
      "source": [
        "model = build_model(x_train_time.shape)\n",
        "history = model.fit(x = x_train_time,\n",
        "                    y = y_train_time,\n",
        "                    epochs=10,\n",
        "                    validation_data=(x_val_time, y_val_time),\n",
        "                    shuffle=True,\n",
        "                    batch_size=128)"
      ],
      "execution_count": null,
      "outputs": [
        {
          "output_type": "stream",
          "text": [
            "Train on 1694 samples, validate on 163 samples\n",
            "Epoch 1/10\n",
            "1694/1694 [==============================] - 1s 592us/step - loss: 0.3584 - val_loss: 1.3170\n",
            "Epoch 2/10\n",
            "1694/1694 [==============================] - 1s 378us/step - loss: 0.3074 - val_loss: 1.2073\n",
            "Epoch 3/10\n",
            "1694/1694 [==============================] - 1s 356us/step - loss: 0.3027 - val_loss: 1.3468\n",
            "Epoch 4/10\n",
            "1694/1694 [==============================] - 1s 361us/step - loss: 0.3047 - val_loss: 1.2506\n",
            "Epoch 5/10\n",
            "1694/1694 [==============================] - 1s 359us/step - loss: 0.3012 - val_loss: 1.2629\n",
            "Epoch 6/10\n",
            "1694/1694 [==============================] - 1s 364us/step - loss: 0.2971 - val_loss: 1.2647\n",
            "Epoch 7/10\n",
            "1694/1694 [==============================] - 1s 360us/step - loss: 0.2970 - val_loss: 1.2930\n",
            "Epoch 8/10\n",
            "1694/1694 [==============================] - 1s 357us/step - loss: 0.2953 - val_loss: 1.2366\n",
            "Epoch 9/10\n",
            "1694/1694 [==============================] - 1s 365us/step - loss: 0.2951 - val_loss: 1.2798\n",
            "Epoch 10/10\n",
            "1694/1694 [==============================] - 1s 358us/step - loss: 0.2944 - val_loss: 1.2466\n"
          ],
          "name": "stdout"
        }
      ]
    },
    {
      "cell_type": "code",
      "metadata": {
        "id": "vUEBe91XYqQu",
        "colab": {
          "base_uri": "https://localhost:8080/",
          "height": 295
        },
        "outputId": "56a4c3f5-c37b-4b13-faa6-ad6bd5b684c7"
      },
      "source": [
        "model.summary()"
      ],
      "execution_count": null,
      "outputs": [
        {
          "output_type": "stream",
          "text": [
            "Model: \"sequential_11\"\n",
            "_________________________________________________________________\n",
            "Layer (type)                 Output Shape              Param #   \n",
            "=================================================================\n",
            "lstm_13 (LSTM)               (None, 50)                12000     \n",
            "_________________________________________________________________\n",
            "dense_26 (Dense)             (None, 32)                1632      \n",
            "_________________________________________________________________\n",
            "dense_27 (Dense)             (None, 16)                528       \n",
            "_________________________________________________________________\n",
            "dense_28 (Dense)             (None, 1)                 17        \n",
            "=================================================================\n",
            "Total params: 14,177\n",
            "Trainable params: 14,177\n",
            "Non-trainable params: 0\n",
            "_________________________________________________________________\n"
          ],
          "name": "stdout"
        }
      ]
    },
    {
      "cell_type": "markdown",
      "metadata": {
        "id": "shkCi4B8Yz8W"
      },
      "source": [
        "#### Validation Prediction Results\n",
        "We use the previously prepared validation data to validate the model. We look at the RMSE and how the predicted values compare to the actual values in terms of their graphical representation."
      ]
    },
    {
      "cell_type": "code",
      "metadata": {
        "id": "Yn5eL_UF4DqC"
      },
      "source": [
        "y_pre_val = model.predict(x_val_time)\n",
        "y_pre_val = y_pre_val.reshape(-1,)"
      ],
      "execution_count": null,
      "outputs": []
    },
    {
      "cell_type": "code",
      "metadata": {
        "id": "Px_J9LLF6iaA",
        "outputId": "b786af9f-603e-4be0-e961-93994b5635de",
        "colab": {
          "base_uri": "https://localhost:8080/",
          "height": 387
        }
      },
      "source": [
        "plt_x = np.arange(1914-len(y_val_time), 1914, 1)\n",
        "plt_y1 = y_pre_val\n",
        "plt_y2 = y_val_time\n",
        "plt.figure(figsize=(20,6))\n",
        "plt.plot(plt_x, plt_y1, color='r', label = \"Predicted value\")\n",
        "plt.plot(plt_x, plt_y2, color = 'b', label = \"Real value\")\n",
        "plt.legend()\n",
        "plt.xlabel(\"Date_num\")\n",
        "plt.ylabel(\"Number sold\")\n",
        "plt.show()\n",
        "plt.close()"
      ],
      "execution_count": null,
      "outputs": [
        {
          "output_type": "display_data",
          "data": {
            "image/png": "[encoded data removed]",
            "text/plain": [
              "<Figure size 1440x432 with 1 Axes>"
            ]
          },
          "metadata": {
            "tags": [],
            "needs_background": "light"
          }
        }
      ]
    },
    {
      "cell_type": "code",
      "metadata": {
        "id": "9cfUw7JE2LMY",
        "outputId": "cd1b2b5c-0010-441c-d1e1-2afcbfb5a836",
        "colab": {
          "base_uri": "https://localhost:8080/",
          "height": 35
        }
      },
      "source": [
        "from sklearn.metrics import mean_squared_error\n",
        "RMSE = np.sqrt(mean_squared_error(y_pre_val, y_val_time))\n",
        "print(\"RMSE = \", RMSE)"
      ],
      "execution_count": null,
      "outputs": [
        {
          "output_type": "stream",
          "text": [
            "RMSE =  1.1165011935545595\n"
          ],
          "name": "stdout"
        }
      ]
    },
    {
      "cell_type": "markdown",
      "metadata": {
        "id": "caxemt3lZGsd"
      },
      "source": [
        "### Another DL Model"
      ]
    },
    {
      "cell_type": "code",
      "metadata": {
        "id": "8laCnseshsBL"
      },
      "source": [
        "def build_CNN(shape):\n",
        "  model = Sequential()\n",
        "  model.add(layers.Conv1D(32, kernel_size=4,input_shape = (shape[1], shape[2],),activation=\"relu\"))\n",
        "  model.add(layers.MaxPooling1D())\n",
        "  model.add(layers.Conv1D(32, kernel_size=4,activation=\"relu\"))\n",
        "  model.add(layers.MaxPooling1D())\n",
        "  model.add(layers.Flatten())\n",
        "  model.add(layers.Dense(32, activation='relu'))\n",
        "  model.add(layers.Dense(32, activation='relu'))\n",
        "  model.add(layers.Dense(1, activation='linear'))\n",
        "\n",
        "  opt = keras.optimizers.Adam()\n",
        "  model.compile(\n",
        "      loss='MSE',\n",
        "      optimizer=opt\n",
        "  )\n",
        "\n",
        "  return model"
      ],
      "execution_count": null,
      "outputs": []
    },
    {
      "cell_type": "code",
      "metadata": {
        "id": "IQdCBmbgh8_l",
        "outputId": "e07363eb-5a70-43eb-c66b-8c6176954cd2",
        "colab": {
          "base_uri": "https://localhost:8080/",
          "height": 381
        }
      },
      "source": [
        "CNN_model = build_CNN(x_train_time.shape)\n",
        "history = CNN_model.fit(x = x_train_time,\n",
        "                        y = y_train_time,\n",
        "                        epochs=10,\n",
        "                        validation_data=(x_val_time, y_val_time),\n",
        "                        shuffle=True,\n",
        "                        batch_size = 128)"
      ],
      "execution_count": null,
      "outputs": [
        {
          "output_type": "stream",
          "text": [
            "Train on 1694 samples, validate on 163 samples\n",
            "Epoch 1/10\n",
            "1694/1694 [==============================] - 0s 292us/step - loss: 0.3425 - val_loss: 1.2831\n",
            "Epoch 2/10\n",
            "1694/1694 [==============================] - 0s 194us/step - loss: 0.3034 - val_loss: 1.2380\n",
            "Epoch 3/10\n",
            "1694/1694 [==============================] - 0s 193us/step - loss: 0.2974 - val_loss: 1.3303\n",
            "Epoch 4/10\n",
            "1694/1694 [==============================] - 0s 192us/step - loss: 0.2968 - val_loss: 1.2529\n",
            "Epoch 5/10\n",
            "1694/1694 [==============================] - 0s 191us/step - loss: 0.2900 - val_loss: 1.2538\n",
            "Epoch 6/10\n",
            "1694/1694 [==============================] - 0s 190us/step - loss: 0.2867 - val_loss: 1.2324\n",
            "Epoch 7/10\n",
            "1694/1694 [==============================] - 0s 193us/step - loss: 0.2853 - val_loss: 1.2539\n",
            "Epoch 8/10\n",
            "1694/1694 [==============================] - 0s 194us/step - loss: 0.2872 - val_loss: 1.2011\n",
            "Epoch 9/10\n",
            "1694/1694 [==============================] - 0s 191us/step - loss: 0.2897 - val_loss: 1.1959\n",
            "Epoch 10/10\n",
            "1694/1694 [==============================] - 0s 191us/step - loss: 0.2790 - val_loss: 1.2247\n"
          ],
          "name": "stdout"
        }
      ]
    },
    {
      "cell_type": "code",
      "metadata": {
        "id": "gOPLPp1UNVD6"
      },
      "source": [
        "y_pre_val = CNN_model.predict(x_val_time)\n",
        "y_pre_val = y_pre_val.reshape(-1,)"
      ],
      "execution_count": null,
      "outputs": []
    },
    {
      "cell_type": "code",
      "metadata": {
        "id": "IHcjrQReiwpZ",
        "outputId": "f7a63c9c-cf0f-4737-947d-26d5843b1611",
        "colab": {
          "base_uri": "https://localhost:8080/",
          "height": 35
        }
      },
      "source": [
        "from sklearn.metrics import mean_squared_error\n",
        "RMSE = np.sqrt(mean_squared_error(y_pre_val, y_val_time))\n",
        "print(\"RMSE = \", RMSE)"
      ],
      "execution_count": null,
      "outputs": [
        {
          "output_type": "stream",
          "text": [
            "RMSE =  1.1066745379814134\n"
          ],
          "name": "stdout"
        }
      ]
    }
  ]
}